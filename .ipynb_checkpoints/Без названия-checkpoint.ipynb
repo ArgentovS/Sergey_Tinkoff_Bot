{
 "cells": [
  {
   "cell_type": "code",
   "execution_count": 12,
   "id": "e5be30a5",
   "metadata": {
    "ExecuteTime": {
     "end_time": "2023-10-06T21:04:46.375853Z",
     "start_time": "2023-10-06T21:04:45.819099Z"
    }
   },
   "outputs": [],
   "source": [
    "import aiomysql\n",
    "import pandas as pd"
   ]
  },
  {
   "cell_type": "code",
   "execution_count": 3,
   "id": "378ae113",
   "metadata": {
    "ExecuteTime": {
     "end_time": "2023-10-06T20:54:21.167906Z",
     "start_time": "2023-10-06T20:54:18.906697Z"
    }
   },
   "outputs": [
    {
     "name": "stdout",
     "output_type": "stream",
     "text": [
      "Defaulting to user installation because normal site-packages is not writeable\n",
      "Collecting aiomysql\n",
      "  Obtaining dependency information for aiomysql from https://files.pythonhosted.org/packages/42/87/c982ee8b333c85b8ae16306387d703a1fcdfc81a2f3f15a24820ab1a512d/aiomysql-0.2.0-py3-none-any.whl.metadata\n",
      "  Downloading aiomysql-0.2.0-py3-none-any.whl.metadata (11 kB)\n",
      "Collecting PyMySQL>=1.0 (from aiomysql)\n",
      "  Obtaining dependency information for PyMySQL>=1.0 from https://files.pythonhosted.org/packages/e5/30/20467e39523d0cfc2b6227902d3687a16364307260c75e6a1cb4422b0c62/PyMySQL-1.1.0-py3-none-any.whl.metadata\n",
      "  Downloading PyMySQL-1.1.0-py3-none-any.whl.metadata (4.4 kB)\n",
      "Downloading aiomysql-0.2.0-py3-none-any.whl (44 kB)\n",
      "\u001b[2K   \u001b[90m━━━━━━━━━━━━━━━━━━━━━━━━━━━━━━━━━━━━━━━━\u001b[0m \u001b[32m44.2/44.2 kB\u001b[0m \u001b[31m588.0 kB/s\u001b[0m eta \u001b[36m0:00:00\u001b[0m\u001b[36m0:00:01\u001b[0m\n",
      "\u001b[?25hDownloading PyMySQL-1.1.0-py3-none-any.whl (44 kB)\n",
      "\u001b[2K   \u001b[90m━━━━━━━━━━━━━━━━━━━━━━━━━━━━━━━━━━━━━━━━\u001b[0m \u001b[32m44.8/44.8 kB\u001b[0m \u001b[31m2.5 MB/s\u001b[0m eta \u001b[36m0:00:00\u001b[0m\n",
      "\u001b[?25hInstalling collected packages: PyMySQL, aiomysql\n",
      "Successfully installed PyMySQL-1.1.0 aiomysql-0.2.0\n"
     ]
    }
   ],
   "source": [
    "!pip install aiomysql"
   ]
  },
  {
   "cell_type": "code",
   "execution_count": 5,
   "id": "f2cc2b18",
   "metadata": {
    "ExecuteTime": {
     "end_time": "2023-10-06T20:55:04.586716Z",
     "start_time": "2023-10-06T20:55:04.574993Z"
    }
   },
   "outputs": [],
   "source": [
    "async def collect_candle(limit=None):\n",
    "    loop = asyncio.get_event_loop()\n",
    "    pool = await aiomysql.create_pool(host=config['SQL']['host'],\n",
    "                                      port=3306,\n",
    "                                      user = config['SQL']['user'],\n",
    "                                      password = config['SQL']['password'],\n",
    "                                      db=config['SQL']['db_name'],\n",
    "                                      loop=loop)\n",
    "    async with pool.acquire() as con:\n",
    "        cur = await con.cursor()\n",
    "        await cur.execute('SELECT * FROM AKRN')\n",
    "        if limit:\n",
    "            rows = cur.fetchmany(limit)\n",
    "        else:\n",
    "            rows = cur.fetchall()\n",
    "        print(rows)\n",
    "    return rows"
   ]
  },
  {
   "cell_type": "code",
   "execution_count": 20,
   "id": "6c541385",
   "metadata": {
    "ExecuteTime": {
     "end_time": "2023-10-06T21:13:09.467746Z",
     "start_time": "2023-10-06T21:13:09.455283Z"
    }
   },
   "outputs": [],
   "source": [
    "import mysql.connector\n",
    "# Параметры хоста\n",
    "host = '91.106.207.34'\n",
    "user = 'asgitma8_exchang' # для базы минутных свечей за 190 дней 'asgitma8_exch_1'\n",
    "password = 'DataBase2023'\n",
    "db_name = 'asgitma8_exchang' # для базы минутных свечей за 190 дней 'asgitma8_exch_1'"
   ]
  },
  {
   "cell_type": "code",
   "execution_count": 14,
   "id": "c354b458",
   "metadata": {
    "ExecuteTime": {
     "end_time": "2023-10-06T21:12:07.815590Z",
     "start_time": "2023-10-06T21:12:07.804218Z"
    }
   },
   "outputs": [],
   "source": [
    "# Функция получения свечей из базы данных\n",
    "def get_candles(host, user, password, db_name):\n",
    "    query = 'SELECT * FROM operative_candles'\n",
    "    # Создаём подключение \n",
    "    myconn = mysql.connector.connect(host=host, user=user, passwd=password,\n",
    "                                     database=db_name)\n",
    "    # Создаём курсора \n",
    "    cur = myconn.cursor() \n",
    "    try: \n",
    "        # Выполняем запрос к базе данных \n",
    "        cur.execute(query)\n",
    "        # Выгружаем результаты запроса \n",
    "        candles = cur.fetchall() \n",
    "    except:\n",
    "        # Откатываем изменения в случае ошибки соединения с базой\n",
    "        myconn.rollback()\n",
    "        print('Ошибка при работе с базой!')\n",
    "    # Закрываем соединение с базой\n",
    "    myconn.close()\n",
    "    return candles"
   ]
  },
  {
   "cell_type": "code",
   "execution_count": 21,
   "id": "6154f261",
   "metadata": {
    "ExecuteTime": {
     "end_time": "2023-10-06T21:13:14.669493Z",
     "start_time": "2023-10-06T21:13:14.512910Z"
    }
   },
   "outputs": [],
   "source": [
    "query = 'SELECT * FROM operative_candles'\n",
    "myconn = mysql.connector.connect(host=host, user=user, passwd=password,\n",
    "                                     database=db_name)"
   ]
  },
  {
   "cell_type": "code",
   "execution_count": 22,
   "id": "703860e9",
   "metadata": {
    "ExecuteTime": {
     "end_time": "2023-10-06T21:13:16.841210Z",
     "start_time": "2023-10-06T21:13:15.593451Z"
    }
   },
   "outputs": [
    {
     "name": "stderr",
     "output_type": "stream",
     "text": [
      "/opt/anaconda3/lib/python3.9/site-packages/pandas/io/sql.py:762: UserWarning: pandas only support SQLAlchemy connectable(engine/connection) ordatabase string URI or sqlite3 DBAPI2 connectionother DBAPI2 objects are not tested, please consider using SQLAlchemy\n",
      "  warnings.warn(\n"
     ]
    }
   ],
   "source": [
    "df = pd.read_sql(query, myconn)"
   ]
  },
  {
   "cell_type": "code",
   "execution_count": 23,
   "id": "a00f6177",
   "metadata": {
    "ExecuteTime": {
     "end_time": "2023-10-06T21:13:21.485147Z",
     "start_time": "2023-10-06T21:13:21.463951Z"
    }
   },
   "outputs": [
    {
     "data": {
      "text/html": [
       "<div>\n",
       "<style scoped>\n",
       "    .dataframe tbody tr th:only-of-type {\n",
       "        vertical-align: middle;\n",
       "    }\n",
       "\n",
       "    .dataframe tbody tr th {\n",
       "        vertical-align: top;\n",
       "    }\n",
       "\n",
       "    .dataframe thead th {\n",
       "        text-align: right;\n",
       "    }\n",
       "</style>\n",
       "<table border=\"1\" class=\"dataframe\">\n",
       "  <thead>\n",
       "    <tr style=\"text-align: right;\">\n",
       "      <th></th>\n",
       "      <th>candle_time</th>\n",
       "      <th>figi</th>\n",
       "      <th>volume</th>\n",
       "      <th>is_complete</th>\n",
       "      <th>now_time</th>\n",
       "    </tr>\n",
       "  </thead>\n",
       "  <tbody>\n",
       "    <tr>\n",
       "      <th>0</th>\n",
       "      <td>2023-10-06 13:38:00</td>\n",
       "      <td>BBG004S689R0</td>\n",
       "      <td>946</td>\n",
       "      <td>True</td>\n",
       "      <td>2023-10-06 13:39:57.333008</td>\n",
       "    </tr>\n",
       "    <tr>\n",
       "      <th>1</th>\n",
       "      <td>2023-10-06 13:38:00</td>\n",
       "      <td>BBG009GSYN76</td>\n",
       "      <td>344</td>\n",
       "      <td>True</td>\n",
       "      <td>2023-10-06 13:39:57.348438</td>\n",
       "    </tr>\n",
       "    <tr>\n",
       "      <th>2</th>\n",
       "      <td>2023-10-06 13:38:00</td>\n",
       "      <td>BBG0047315Y7</td>\n",
       "      <td>37</td>\n",
       "      <td>True</td>\n",
       "      <td>2023-10-06 13:39:57.362361</td>\n",
       "    </tr>\n",
       "    <tr>\n",
       "      <th>3</th>\n",
       "      <td>1970-01-01 00:00:00</td>\n",
       "      <td>BBG00178PGX3</td>\n",
       "      <td>0</td>\n",
       "      <td>False</td>\n",
       "      <td>2023-10-06 13:39:57.360598</td>\n",
       "    </tr>\n",
       "    <tr>\n",
       "      <th>4</th>\n",
       "      <td>2023-10-06 13:38:00</td>\n",
       "      <td>BBG00QPYJ5H0</td>\n",
       "      <td>20</td>\n",
       "      <td>True</td>\n",
       "      <td>2023-10-06 13:39:57.329714</td>\n",
       "    </tr>\n",
       "    <tr>\n",
       "      <th>...</th>\n",
       "      <td>...</td>\n",
       "      <td>...</td>\n",
       "      <td>...</td>\n",
       "      <td>...</td>\n",
       "      <td>...</td>\n",
       "    </tr>\n",
       "    <tr>\n",
       "      <th>1492</th>\n",
       "      <td>2023-10-06 14:12:00</td>\n",
       "      <td>BBG004S689R0</td>\n",
       "      <td>4857</td>\n",
       "      <td>True</td>\n",
       "      <td>2023-10-06 14:13:57.064564</td>\n",
       "    </tr>\n",
       "    <tr>\n",
       "      <th>1493</th>\n",
       "      <td>2023-10-06 14:10:00</td>\n",
       "      <td>BBG000QF1Q17</td>\n",
       "      <td>12</td>\n",
       "      <td>True</td>\n",
       "      <td>2023-10-06 14:13:57.070558</td>\n",
       "    </tr>\n",
       "    <tr>\n",
       "      <th>1494</th>\n",
       "      <td>2023-10-06 14:02:00</td>\n",
       "      <td>BBG000VJMH65</td>\n",
       "      <td>4</td>\n",
       "      <td>True</td>\n",
       "      <td>2023-10-06 14:13:57.070714</td>\n",
       "    </tr>\n",
       "    <tr>\n",
       "      <th>1495</th>\n",
       "      <td>2023-10-06 14:12:00</td>\n",
       "      <td>BBG00Y91R9T3</td>\n",
       "      <td>352</td>\n",
       "      <td>True</td>\n",
       "      <td>2023-10-06 14:13:57.113716</td>\n",
       "    </tr>\n",
       "    <tr>\n",
       "      <th>1496</th>\n",
       "      <td>2023-10-06 14:12:00</td>\n",
       "      <td>BBG004S68758</td>\n",
       "      <td>522</td>\n",
       "      <td>True</td>\n",
       "      <td>2023-10-06 14:13:57.079428</td>\n",
       "    </tr>\n",
       "  </tbody>\n",
       "</table>\n",
       "<p>1497 rows × 5 columns</p>\n",
       "</div>"
      ],
      "text/plain": [
       "             candle_time          figi  volume is_complete  \\\n",
       "0    2023-10-06 13:38:00  BBG004S689R0     946        True   \n",
       "1    2023-10-06 13:38:00  BBG009GSYN76     344        True   \n",
       "2    2023-10-06 13:38:00  BBG0047315Y7      37        True   \n",
       "3    1970-01-01 00:00:00  BBG00178PGX3       0       False   \n",
       "4    2023-10-06 13:38:00  BBG00QPYJ5H0      20        True   \n",
       "...                  ...           ...     ...         ...   \n",
       "1492 2023-10-06 14:12:00  BBG004S689R0    4857        True   \n",
       "1493 2023-10-06 14:10:00  BBG000QF1Q17      12        True   \n",
       "1494 2023-10-06 14:02:00  BBG000VJMH65       4        True   \n",
       "1495 2023-10-06 14:12:00  BBG00Y91R9T3     352        True   \n",
       "1496 2023-10-06 14:12:00  BBG004S68758     522        True   \n",
       "\n",
       "                       now_time  \n",
       "0    2023-10-06 13:39:57.333008  \n",
       "1    2023-10-06 13:39:57.348438  \n",
       "2    2023-10-06 13:39:57.362361  \n",
       "3    2023-10-06 13:39:57.360598  \n",
       "4    2023-10-06 13:39:57.329714  \n",
       "...                         ...  \n",
       "1492 2023-10-06 14:13:57.064564  \n",
       "1493 2023-10-06 14:13:57.070558  \n",
       "1494 2023-10-06 14:13:57.070714  \n",
       "1495 2023-10-06 14:13:57.113716  \n",
       "1496 2023-10-06 14:13:57.079428  \n",
       "\n",
       "[1497 rows x 5 columns]"
      ]
     },
     "execution_count": 23,
     "metadata": {},
     "output_type": "execute_result"
    }
   ],
   "source": [
    "df"
   ]
  },
  {
   "cell_type": "code",
   "execution_count": 26,
   "id": "b82b48c5",
   "metadata": {
    "ExecuteTime": {
     "end_time": "2023-10-06T21:18:25.110012Z",
     "start_time": "2023-10-06T21:18:25.012487Z"
    }
   },
   "outputs": [],
   "source": [
    "df.to_excel('Оперативные свечи за полчаса (для проверки релевантности).xlsx', index=False)"
   ]
  },
  {
   "cell_type": "code",
   "execution_count": null,
   "id": "4b525a9c",
   "metadata": {},
   "outputs": [],
   "source": []
  }
 ],
 "metadata": {
  "kernelspec": {
   "display_name": "Python 3 (ipykernel)",
   "language": "python",
   "name": "python3"
  },
  "language_info": {
   "codemirror_mode": {
    "name": "ipython",
    "version": 3
   },
   "file_extension": ".py",
   "mimetype": "text/x-python",
   "name": "python",
   "nbconvert_exporter": "python",
   "pygments_lexer": "ipython3",
   "version": "3.9.13"
  },
  "toc": {
   "base_numbering": 1,
   "nav_menu": {},
   "number_sections": true,
   "sideBar": true,
   "skip_h1_title": false,
   "title_cell": "Table of Contents",
   "title_sidebar": "Contents",
   "toc_cell": false,
   "toc_position": {},
   "toc_section_display": true,
   "toc_window_display": false
  },
  "varInspector": {
   "cols": {
    "lenName": 16,
    "lenType": 16,
    "lenVar": 40
   },
   "kernels_config": {
    "python": {
     "delete_cmd_postfix": "",
     "delete_cmd_prefix": "del ",
     "library": "var_list.py",
     "varRefreshCmd": "print(var_dic_list())"
    },
    "r": {
     "delete_cmd_postfix": ") ",
     "delete_cmd_prefix": "rm(",
     "library": "var_list.r",
     "varRefreshCmd": "cat(var_dic_list()) "
    }
   },
   "types_to_exclude": [
    "module",
    "function",
    "builtin_function_or_method",
    "instance",
    "_Feature"
   ],
   "window_display": false
  }
 },
 "nbformat": 4,
 "nbformat_minor": 5
}
