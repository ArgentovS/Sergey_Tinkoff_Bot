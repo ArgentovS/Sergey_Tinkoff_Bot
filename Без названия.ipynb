{
 "cells": [
  {
   "cell_type": "code",
   "execution_count": 5,
   "id": "e5be30a5",
   "metadata": {
    "ExecuteTime": {
     "end_time": "2023-10-07T08:39:03.071958Z",
     "start_time": "2023-10-07T08:39:02.834441Z"
    }
   },
   "outputs": [],
   "source": [
    "import aiomysql\n",
    "import pandas as pd"
   ]
  },
  {
   "cell_type": "code",
   "execution_count": 3,
   "id": "378ae113",
   "metadata": {
    "ExecuteTime": {
     "end_time": "2023-10-06T20:54:21.167906Z",
     "start_time": "2023-10-06T20:54:18.906697Z"
    }
   },
   "outputs": [
    {
     "name": "stdout",
     "output_type": "stream",
     "text": [
      "Defaulting to user installation because normal site-packages is not writeable\n",
      "Collecting aiomysql\n",
      "  Obtaining dependency information for aiomysql from https://files.pythonhosted.org/packages/42/87/c982ee8b333c85b8ae16306387d703a1fcdfc81a2f3f15a24820ab1a512d/aiomysql-0.2.0-py3-none-any.whl.metadata\n",
      "  Downloading aiomysql-0.2.0-py3-none-any.whl.metadata (11 kB)\n",
      "Collecting PyMySQL>=1.0 (from aiomysql)\n",
      "  Obtaining dependency information for PyMySQL>=1.0 from https://files.pythonhosted.org/packages/e5/30/20467e39523d0cfc2b6227902d3687a16364307260c75e6a1cb4422b0c62/PyMySQL-1.1.0-py3-none-any.whl.metadata\n",
      "  Downloading PyMySQL-1.1.0-py3-none-any.whl.metadata (4.4 kB)\n",
      "Downloading aiomysql-0.2.0-py3-none-any.whl (44 kB)\n",
      "\u001b[2K   \u001b[90m━━━━━━━━━━━━━━━━━━━━━━━━━━━━━━━━━━━━━━━━\u001b[0m \u001b[32m44.2/44.2 kB\u001b[0m \u001b[31m588.0 kB/s\u001b[0m eta \u001b[36m0:00:00\u001b[0m\u001b[36m0:00:01\u001b[0m\n",
      "\u001b[?25hDownloading PyMySQL-1.1.0-py3-none-any.whl (44 kB)\n",
      "\u001b[2K   \u001b[90m━━━━━━━━━━━━━━━━━━━━━━━━━━━━━━━━━━━━━━━━\u001b[0m \u001b[32m44.8/44.8 kB\u001b[0m \u001b[31m2.5 MB/s\u001b[0m eta \u001b[36m0:00:00\u001b[0m\n",
      "\u001b[?25hInstalling collected packages: PyMySQL, aiomysql\n",
      "Successfully installed PyMySQL-1.1.0 aiomysql-0.2.0\n"
     ]
    }
   ],
   "source": [
    "!pip install aiomysql"
   ]
  },
  {
   "cell_type": "code",
   "execution_count": 5,
   "id": "f2cc2b18",
   "metadata": {
    "ExecuteTime": {
     "end_time": "2023-10-06T20:55:04.586716Z",
     "start_time": "2023-10-06T20:55:04.574993Z"
    }
   },
   "outputs": [],
   "source": [
    "async def collect_candle(limit=None):\n",
    "    loop = asyncio.get_event_loop()\n",
    "    pool = await aiomysql.create_pool(host=config['SQL']['host'],\n",
    "                                      port=3306,\n",
    "                                      user = config['SQL']['user'],\n",
    "                                      password = config['SQL']['password'],\n",
    "                                      db=config['SQL']['db_name'],\n",
    "                                      loop=loop)\n",
    "    async with pool.acquire() as con:\n",
    "        cur = await con.cursor()\n",
    "        await cur.execute('SELECT * FROM AKRN')\n",
    "        if limit:\n",
    "            rows = cur.fetchmany(limit)\n",
    "        else:\n",
    "            rows = cur.fetchall()\n",
    "        print(rows)\n",
    "    return rows"
   ]
  },
  {
   "cell_type": "code",
   "execution_count": 1,
   "id": "6c541385",
   "metadata": {
    "ExecuteTime": {
     "end_time": "2023-10-07T08:34:17.593128Z",
     "start_time": "2023-10-07T08:34:17.556022Z"
    }
   },
   "outputs": [],
   "source": [
    "import mysql.connector\n",
    "# Параметры хоста\n",
    "host = '91.106.207.34'\n",
    "user = 'asgitma8_exchang' # для базы минутных свечей за 190 дней 'asgitma8_exch_1'\n",
    "password = 'DataBase2023'\n",
    "db_name = 'asgitma8_exchang' # для базы минутных свечей за 190 дней 'asgitma8_exch_1'"
   ]
  },
  {
   "cell_type": "code",
   "execution_count": 2,
   "id": "c354b458",
   "metadata": {
    "ExecuteTime": {
     "end_time": "2023-10-07T08:34:27.122787Z",
     "start_time": "2023-10-07T08:34:27.110246Z"
    }
   },
   "outputs": [],
   "source": [
    "# Функция получения свечей из базы данных\n",
    "def get_candles(host, user, password, db_name):\n",
    "    query = 'SELECT * FROM operative_candles'\n",
    "    # Создаём подключение \n",
    "    myconn = mysql.connector.connect(host=host, user=user, passwd=password,\n",
    "                                     database=db_name)\n",
    "    # Создаём курсора \n",
    "    cur = myconn.cursor() \n",
    "    try: \n",
    "        # Выполняем запрос к базе данных \n",
    "        cur.execute(query)\n",
    "        # Выгружаем результаты запроса \n",
    "        candles = cur.fetchall() \n",
    "    except:\n",
    "        # Откатываем изменения в случае ошибки соединения с базой\n",
    "        myconn.rollback()\n",
    "        print('Ошибка при работе с базой!')\n",
    "    # Закрываем соединение с базой\n",
    "    myconn.close()\n",
    "    return candles"
   ]
  },
  {
   "cell_type": "code",
   "execution_count": 48,
   "id": "6154f261",
   "metadata": {
    "ExecuteTime": {
     "end_time": "2023-10-07T09:02:31.771222Z",
     "start_time": "2023-10-07T09:02:31.613180Z"
    }
   },
   "outputs": [],
   "source": [
    "query = \"\"\"\n",
    "    SELECT oc.candle_time as 'ВРЕМЯ СВЕЧИ',\n",
    "           s.ticker as 'ТИКЕР',\n",
    "           s.figi as 'ИДЕНТИФИКАТОР',\n",
    "           oc.volume as 'ОБЪЁМ ПРОДАЖ',\n",
    "           oc.is_complete as 'БЫЛА ИНФОРМАЦИЯ',\n",
    "           oc.now_time as 'ВРЕМЯ ПОСТУПЛЕНИЯ СВЕЧИ',\n",
    "           microsecond(oc.now_time)/1000000  as 'ВРЕМЯ ОТВЕТА СЕРВЕРА, сек'\n",
    "    FROM operative_candles oc\n",
    "    LEFT JOIN shares s\n",
    "           ON s.figi = oc.figi\n",
    "\"\"\"\n",
    "myconn = mysql.connector.connect(host=host, user=user, passwd=password,\n",
    "                                     database=db_name)"
   ]
  },
  {
   "cell_type": "code",
   "execution_count": 49,
   "id": "703860e9",
   "metadata": {
    "ExecuteTime": {
     "end_time": "2023-10-07T09:02:32.344858Z",
     "start_time": "2023-10-07T09:02:32.116733Z"
    }
   },
   "outputs": [
    {
     "name": "stderr",
     "output_type": "stream",
     "text": [
      "/opt/anaconda3/lib/python3.9/site-packages/pandas/io/sql.py:762: UserWarning: pandas only support SQLAlchemy connectable(engine/connection) ordatabase string URI or sqlite3 DBAPI2 connectionother DBAPI2 objects are not tested, please consider using SQLAlchemy\n",
      "  warnings.warn(\n"
     ]
    }
   ],
   "source": [
    "df = pd.read_sql(query, myconn)"
   ]
  },
  {
   "cell_type": "code",
   "execution_count": 50,
   "id": "a00f6177",
   "metadata": {
    "ExecuteTime": {
     "end_time": "2023-10-07T09:02:32.768694Z",
     "start_time": "2023-10-07T09:02:32.749828Z"
    }
   },
   "outputs": [
    {
     "data": {
      "text/html": [
       "<div>\n",
       "<style scoped>\n",
       "    .dataframe tbody tr th:only-of-type {\n",
       "        vertical-align: middle;\n",
       "    }\n",
       "\n",
       "    .dataframe tbody tr th {\n",
       "        vertical-align: top;\n",
       "    }\n",
       "\n",
       "    .dataframe thead th {\n",
       "        text-align: right;\n",
       "    }\n",
       "</style>\n",
       "<table border=\"1\" class=\"dataframe\">\n",
       "  <thead>\n",
       "    <tr style=\"text-align: right;\">\n",
       "      <th></th>\n",
       "      <th>ВРЕМЯ СВЕЧИ</th>\n",
       "      <th>ТИКЕР</th>\n",
       "      <th>ИДЕНТИФИКАТОР</th>\n",
       "      <th>ОБЪЁМ ПРОДАЖ</th>\n",
       "      <th>БЫЛА ИНФОРМАЦИЯ</th>\n",
       "      <th>ВРЕМЯ ПОСТУПЛЕНИЯ СВЕЧИ</th>\n",
       "      <th>ВРЕМЯ ОТВЕТА СЕРВЕРА, сек</th>\n",
       "    </tr>\n",
       "  </thead>\n",
       "  <tbody>\n",
       "    <tr>\n",
       "      <th>0</th>\n",
       "      <td>2023-10-06 13:38:00</td>\n",
       "      <td>ENPG</td>\n",
       "      <td>BBG000RMWQD4</td>\n",
       "      <td>14</td>\n",
       "      <td>True</td>\n",
       "      <td>2023-10-06 13:39:57.400101</td>\n",
       "      <td>0.4001</td>\n",
       "    </tr>\n",
       "    <tr>\n",
       "      <th>1</th>\n",
       "      <td>1970-01-01 00:00:00</td>\n",
       "      <td>ENPG</td>\n",
       "      <td>BBG000RMWQD4</td>\n",
       "      <td>0</td>\n",
       "      <td>False</td>\n",
       "      <td>2023-10-06 13:40:57.078316</td>\n",
       "      <td>0.0783</td>\n",
       "    </tr>\n",
       "    <tr>\n",
       "      <th>2</th>\n",
       "      <td>2023-10-06 13:40:00</td>\n",
       "      <td>ENPG</td>\n",
       "      <td>BBG000RMWQD4</td>\n",
       "      <td>100</td>\n",
       "      <td>True</td>\n",
       "      <td>2023-10-06 13:41:57.045936</td>\n",
       "      <td>0.0459</td>\n",
       "    </tr>\n",
       "    <tr>\n",
       "      <th>3</th>\n",
       "      <td>2023-10-06 13:40:00</td>\n",
       "      <td>ENPG</td>\n",
       "      <td>BBG000RMWQD4</td>\n",
       "      <td>100</td>\n",
       "      <td>True</td>\n",
       "      <td>2023-10-06 13:42:57.038146</td>\n",
       "      <td>0.0381</td>\n",
       "    </tr>\n",
       "    <tr>\n",
       "      <th>4</th>\n",
       "      <td>2023-10-06 13:40:00</td>\n",
       "      <td>ENPG</td>\n",
       "      <td>BBG000RMWQD4</td>\n",
       "      <td>100</td>\n",
       "      <td>True</td>\n",
       "      <td>2023-10-06 13:43:57.067787</td>\n",
       "      <td>0.0678</td>\n",
       "    </tr>\n",
       "    <tr>\n",
       "      <th>...</th>\n",
       "      <td>...</td>\n",
       "      <td>...</td>\n",
       "      <td>...</td>\n",
       "      <td>...</td>\n",
       "      <td>...</td>\n",
       "      <td>...</td>\n",
       "      <td>...</td>\n",
       "    </tr>\n",
       "    <tr>\n",
       "      <th>1492</th>\n",
       "      <td>2023-10-06 14:08:00</td>\n",
       "      <td>None</td>\n",
       "      <td>None</td>\n",
       "      <td>10</td>\n",
       "      <td>True</td>\n",
       "      <td>2023-10-06 14:09:57.038808</td>\n",
       "      <td>0.0388</td>\n",
       "    </tr>\n",
       "    <tr>\n",
       "      <th>1493</th>\n",
       "      <td>2023-10-06 14:09:00</td>\n",
       "      <td>None</td>\n",
       "      <td>None</td>\n",
       "      <td>14</td>\n",
       "      <td>True</td>\n",
       "      <td>2023-10-06 14:10:57.045696</td>\n",
       "      <td>0.0457</td>\n",
       "    </tr>\n",
       "    <tr>\n",
       "      <th>1494</th>\n",
       "      <td>2023-10-06 14:10:00</td>\n",
       "      <td>None</td>\n",
       "      <td>None</td>\n",
       "      <td>7</td>\n",
       "      <td>True</td>\n",
       "      <td>2023-10-06 14:11:57.041985</td>\n",
       "      <td>0.0420</td>\n",
       "    </tr>\n",
       "    <tr>\n",
       "      <th>1495</th>\n",
       "      <td>2023-10-06 14:11:00</td>\n",
       "      <td>None</td>\n",
       "      <td>None</td>\n",
       "      <td>12</td>\n",
       "      <td>True</td>\n",
       "      <td>2023-10-06 14:12:57.049976</td>\n",
       "      <td>0.0500</td>\n",
       "    </tr>\n",
       "    <tr>\n",
       "      <th>1496</th>\n",
       "      <td>2023-10-06 14:12:00</td>\n",
       "      <td>None</td>\n",
       "      <td>None</td>\n",
       "      <td>589</td>\n",
       "      <td>True</td>\n",
       "      <td>2023-10-06 14:13:57.040423</td>\n",
       "      <td>0.0404</td>\n",
       "    </tr>\n",
       "  </tbody>\n",
       "</table>\n",
       "<p>1497 rows × 7 columns</p>\n",
       "</div>"
      ],
      "text/plain": [
       "             ВРЕМЯ СВЕЧИ ТИКЕР ИДЕНТИФИКАТОР  ОБЪЁМ ПРОДАЖ БЫЛА ИНФОРМАЦИЯ  \\\n",
       "0    2023-10-06 13:38:00  ENPG  BBG000RMWQD4            14            True   \n",
       "1    1970-01-01 00:00:00  ENPG  BBG000RMWQD4             0           False   \n",
       "2    2023-10-06 13:40:00  ENPG  BBG000RMWQD4           100            True   \n",
       "3    2023-10-06 13:40:00  ENPG  BBG000RMWQD4           100            True   \n",
       "4    2023-10-06 13:40:00  ENPG  BBG000RMWQD4           100            True   \n",
       "...                  ...   ...           ...           ...             ...   \n",
       "1492 2023-10-06 14:08:00  None          None            10            True   \n",
       "1493 2023-10-06 14:09:00  None          None            14            True   \n",
       "1494 2023-10-06 14:10:00  None          None             7            True   \n",
       "1495 2023-10-06 14:11:00  None          None            12            True   \n",
       "1496 2023-10-06 14:12:00  None          None           589            True   \n",
       "\n",
       "        ВРЕМЯ ПОСТУПЛЕНИЯ СВЕЧИ  ВРЕМЯ ОТВЕТА СЕРВЕРА, сек  \n",
       "0    2023-10-06 13:39:57.400101                     0.4001  \n",
       "1    2023-10-06 13:40:57.078316                     0.0783  \n",
       "2    2023-10-06 13:41:57.045936                     0.0459  \n",
       "3    2023-10-06 13:42:57.038146                     0.0381  \n",
       "4    2023-10-06 13:43:57.067787                     0.0678  \n",
       "...                         ...                        ...  \n",
       "1492 2023-10-06 14:09:57.038808                     0.0388  \n",
       "1493 2023-10-06 14:10:57.045696                     0.0457  \n",
       "1494 2023-10-06 14:11:57.041985                     0.0420  \n",
       "1495 2023-10-06 14:12:57.049976                     0.0500  \n",
       "1496 2023-10-06 14:13:57.040423                     0.0404  \n",
       "\n",
       "[1497 rows x 7 columns]"
      ]
     },
     "execution_count": 50,
     "metadata": {},
     "output_type": "execute_result"
    }
   ],
   "source": [
    "df"
   ]
  },
  {
   "cell_type": "code",
   "execution_count": 51,
   "id": "b82b48c5",
   "metadata": {
    "ExecuteTime": {
     "end_time": "2023-10-07T09:02:42.221786Z",
     "start_time": "2023-10-07T09:02:42.109992Z"
    }
   },
   "outputs": [],
   "source": [
    "df.to_excel('Оперативные свечи за полчаса (для проверки релевантности)_ticker.xlsx', index=False)"
   ]
  },
  {
   "cell_type": "code",
   "execution_count": 47,
   "id": "4b525a9c",
   "metadata": {
    "ExecuteTime": {
     "end_time": "2023-10-07T09:02:11.532772Z",
     "start_time": "2023-10-07T09:02:11.514396Z"
    }
   },
   "outputs": [
    {
     "data": {
      "text/plain": [
       "ВРЕМЯ СВЕЧИ                  36\n",
       "ТИКЕР                        60\n",
       "ИДЕНТИФИКАТОР                60\n",
       "ОБЪЁМ ПРОДАЖ                574\n",
       "БЫЛА ИНФОРМАЦИЯ               2\n",
       "ВРЕМЯ ПОСТУПЛЕНИЯ СВЕЧИ    1497\n",
       "ВРЕМЯ ОТВЕТА СЕРВЕРА        669\n",
       "dtype: int64"
      ]
     },
     "execution_count": 47,
     "metadata": {},
     "output_type": "execute_result"
    }
   ],
   "source": [
    "df.nunique()"
   ]
  },
  {
   "cell_type": "code",
   "execution_count": 54,
   "id": "bfb8f002",
   "metadata": {
    "ExecuteTime": {
     "end_time": "2023-10-07T11:39:49.239636Z",
     "start_time": "2023-10-07T11:39:49.231612Z"
    }
   },
   "outputs": [
    {
     "data": {
      "text/plain": [
       "5"
      ]
     },
     "execution_count": 54,
     "metadata": {},
     "output_type": "execute_result"
    }
   ],
   "source": [
    "sum([1, 4])"
   ]
  },
  {
   "cell_type": "code",
   "execution_count": null,
   "id": "6f1c3430",
   "metadata": {},
   "outputs": [],
   "source": []
  }
 ],
 "metadata": {
  "kernelspec": {
   "display_name": "Python 3 (ipykernel)",
   "language": "python",
   "name": "python3"
  },
  "language_info": {
   "codemirror_mode": {
    "name": "ipython",
    "version": 3
   },
   "file_extension": ".py",
   "mimetype": "text/x-python",
   "name": "python",
   "nbconvert_exporter": "python",
   "pygments_lexer": "ipython3",
   "version": "3.9.13"
  },
  "toc": {
   "base_numbering": 1,
   "nav_menu": {},
   "number_sections": true,
   "sideBar": true,
   "skip_h1_title": false,
   "title_cell": "Table of Contents",
   "title_sidebar": "Contents",
   "toc_cell": false,
   "toc_position": {},
   "toc_section_display": true,
   "toc_window_display": false
  },
  "varInspector": {
   "cols": {
    "lenName": 16,
    "lenType": 16,
    "lenVar": 40
   },
   "kernels_config": {
    "python": {
     "delete_cmd_postfix": "",
     "delete_cmd_prefix": "del ",
     "library": "var_list.py",
     "varRefreshCmd": "print(var_dic_list())"
    },
    "r": {
     "delete_cmd_postfix": ") ",
     "delete_cmd_prefix": "rm(",
     "library": "var_list.r",
     "varRefreshCmd": "cat(var_dic_list()) "
    }
   },
   "types_to_exclude": [
    "module",
    "function",
    "builtin_function_or_method",
    "instance",
    "_Feature"
   ],
   "window_display": false
  }
 },
 "nbformat": 4,
 "nbformat_minor": 5
}
