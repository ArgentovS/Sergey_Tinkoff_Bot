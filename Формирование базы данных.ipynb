{
 "cells": [
  {
   "cell_type": "markdown",
   "id": "a63810a1",
   "metadata": {},
   "source": [
    "**ФОРМИРОВАНИЕ ИСТОРИЧЕСКОЙ БАЗЫ ДАННЫХ ИЗ TINKOFF-API**"
   ]
  },
  {
   "cell_type": "markdown",
   "id": "6aa199f3",
   "metadata": {
    "toc": true
   },
   "source": [
    "<h1>СОДЕРЖАНИЕ<span class=\"tocSkip\"></span></h1>\n",
    "<div class=\"toc\"><ul class=\"toc-item\"><li><span><a href=\"#0.-Загружаем-библиотеки\" data-toc-modified-id=\"0.-Загружаем-библиотеки-1\">0. Загружаем библиотеки</a></span></li><li><span><a href=\"#1.-Писоединяемся-к-базе-данных-MySQL-на-удалённом-сервере\" data-toc-modified-id=\"1.-Писоединяемся-к-базе-данных-MySQL-на-удалённом-сервере-2\">1. Писоединяемся к базе данных MySQL на удалённом сервере</a></span></li><li><span><a href=\"#2.-Формируем-базу-данных-инструментов-(только-акции)\" data-toc-modified-id=\"2.-Формируем-базу-данных-инструментов-(только-акции)-3\">2. Формируем базу данных инструментов (только акции)</a></span><ul class=\"toc-item\"><li><span><a href=\"#2.1.-Формируем-таблицу-ИНСТРУМЕНТОВ-(акций)-Московской-биржи-(и-прочие)-https://tinkoff.github.io/investAPI/instruments/#share\" data-toc-modified-id=\"2.1.-Формируем-таблицу-ИНСТРУМЕНТОВ-(акций)-Московской-биржи-(и-прочие)-https://tinkoff.github.io/investAPI/instruments/#share-3.1\">2.1. Формируем таблицу ИНСТРУМЕНТОВ (акций) Московской биржи (и прочие) <a href=\"https://tinkoff.github.io/investAPI/instruments/#share\" rel=\"nofollow\" target=\"_blank\">https://tinkoff.github.io/investAPI/instruments/#share</a></a></span></li><li><span><a href=\"#2.2.-Формируем-таблицу-типов-акций-id_share_type-https://tinkoff.github.io/investAPI/instruments/#sharetype\" data-toc-modified-id=\"2.2.-Формируем-таблицу-типов-акций-id_share_type-https://tinkoff.github.io/investAPI/instruments/#sharetype-3.2\">2.2. Формируем таблицу типов акций id_share_type <a href=\"https://tinkoff.github.io/investAPI/instruments/#sharetype\" rel=\"nofollow\" target=\"_blank\">https://tinkoff.github.io/investAPI/instruments/#sharetype</a></a></span></li><li><span><a href=\"#2.3.-Формируем-таблицу-типов-статусов-акций-id_share_type-https://tinkoff.github.io/investAPI/instruments/#securitytradingstatus\" data-toc-modified-id=\"2.3.-Формируем-таблицу-типов-статусов-акций-id_share_type-https://tinkoff.github.io/investAPI/instruments/#securitytradingstatus-3.3\">2.3. Формируем таблицу типов статусов акций id_share_type <a href=\"https://tinkoff.github.io/investAPI/instruments/#securitytradingstatus\" rel=\"nofollow\" target=\"_blank\">https://tinkoff.github.io/investAPI/instruments/#securitytradingstatus</a></a></span></li></ul></li><li><span><a href=\"#3.-Формируем-базу-данных-свечей\" data-toc-modified-id=\"3.-Формируем-базу-данных-свечей-4\">3. Формируем базу данных свечей</a></span><ul class=\"toc-item\"><li><span><a href=\"#3.1.-Формируем-данные-по-историческим-5-ти-минутным-свечам\" data-toc-modified-id=\"3.1.-Формируем-данные-по-историческим-5-ти-минутным-свечам-4.1\">3.1. Формируем данные по историческим 5-ти минутным свечам</a></span></li><li><span><a href=\"#3.1.1.-Выгрузки-для-Гоши\" data-toc-modified-id=\"3.1.1.-Выгрузки-для-Гоши-4.2\">3.1.1. Выгрузки для Гоши</a></span></li><li><span><a href=\"#3.1.2.-Заполняем-базу--MySQL-на-удалённом-сервере\" data-toc-modified-id=\"3.1.2.-Заполняем-базу--MySQL-на-удалённом-сервере-4.3\">3.1.2. Заполняем базу  MySQL на удалённом сервере</a></span></li></ul></li><li><span><a href=\"#4.-16/09/23-Запрашиваем-торговый-календарь\" data-toc-modified-id=\"4.-16/09/23-Запрашиваем-торговый-календарь-5\">4. 16/09/23 Запрашиваем торговый календарь</a></span></li></ul></div>"
   ]
  },
  {
   "cell_type": "markdown",
   "id": "a0e3ebee",
   "metadata": {},
   "source": [
    "# 0. Загружаем библиотеки"
   ]
  },
  {
   "cell_type": "code",
   "execution_count": 1,
   "id": "724350da",
   "metadata": {
    "ExecuteTime": {
     "end_time": "2023-09-16T16:17:03.178238Z",
     "start_time": "2023-09-16T16:17:00.525574Z"
    }
   },
   "outputs": [],
   "source": [
    "# Общие библиотеки\n",
    "import os\n",
    "from datetime import timedelta\n",
    "import matplotlib.pyplot as plt\n",
    "import time\n",
    "import sqlite3\n",
    "import pprint\n",
    "from datetime import timedelta, datetime\n",
    "import time\n",
    "\n",
    "import pandas as pd\n",
    "  ## Сброс ограничений на количество выводимых рядов\n",
    "pd.set_option('display.max_rows', None)\n",
    "  ## Сброс ограничений на число столбцов\n",
    "pd.set_option('display.max_columns', None)\n",
    "  ## Сброс ограничений на количество символов в записи\n",
    "pd.set_option('display.max_colwidth', None)\n",
    "\n",
    "# Библиотека для работы с удалённой базой MySQL\n",
    "# !python -m pip install mysql-connector \n",
    "# Источник: https://pythonpip.ru/examples/nastroyka-sredy-mysql-python-i-ustanovka-mysql-connector\n",
    "import mysql.connector\n",
    "# Параметры хоста\n",
    "host = '91.106.207.34'\n",
    "user = 'asgitma8_exchang'\n",
    "password = 'DataBase2023'\n",
    "db_name = 'asgitma8_exchang'\n",
    "\n",
    "# Тинькофф-API\n",
    "from tinkoff.invest import CandleInterval, Client, GetOrderBookRequest\n",
    "from tinkoff.invest.utils import now\n",
    "\n",
    "from tinkoff.invest.retrying.settings import RetryClientSettings\n",
    "from tinkoff.invest.retrying.sync.client import RetryingClient\n",
    "\n",
    "# Токин из спецфайла\n",
    "from exchange.token import TOKEN"
   ]
  },
  {
   "cell_type": "code",
   "execution_count": 70,
   "id": "e2e4d6ab",
   "metadata": {
    "ExecuteTime": {
     "end_time": "2023-09-12T22:35:18.360732Z",
     "start_time": "2023-09-12T22:35:18.351848Z"
    },
    "code_folding": []
   },
   "outputs": [],
   "source": [
    "# Функция Выбора актуальных инструментов через TinkoffAPI\n",
    "def get_instruments(EXCHANGE = 1): # Признак биржи: 0 - не определён, 1 - Московская, 2 - Притерская, 3 - вне биржи\n",
    "    with Client(TOKEN) as client:\n",
    "        response = client.instruments.shares().instruments\n",
    "        rows = list()\n",
    "        for elem in response:\n",
    "            if elem.real_exchange == EXCHANGE:\n",
    "                row = [elem.name, elem.ticker, elem.lot,\n",
    "                       elem.min_price_increment.units+elem.min_price_increment.nano*1e-9,\n",
    "                       elem.sector, elem.exchange,\n",
    "                              \n",
    "                       elem.nominal.currency, elem.nominal.units+elem.nominal.nano*1e-9, elem.issue_size,\n",
    "                              \n",
    "                       elem.figi, elem.class_code, elem.isin, elem.uid, elem.position_uid,\n",
    "                              \n",
    "                       int(elem.share_type), int(elem.trading_status),\n",
    "                              \n",
    "                       elem.short_enabled_flag, elem.buy_available_flag, elem.sell_available_flag,\n",
    "                       elem.div_yield_flag, elem.api_trade_available_flag]\n",
    "\n",
    "                rows.append(row)\n",
    "            columns=['name', 'ticker', 'lot',\n",
    "                                       'min_price_increment',\n",
    "                                       'sector', 'exchange',\n",
    "                                       \n",
    "                                       'nominal_currency', 'nominal_value', 'issue_size',\n",
    "                              \n",
    "                                       'figi', 'class_code', 'isin', 'uid', 'position_uid',\n",
    "                                       \n",
    "                                       'id_share_type', 'id_trading_status',\n",
    "                              \n",
    "                                       'short_enabled_flag', 'buy_available_flag', 'sell_available_flag',\n",
    "                                       'div_yield_flag', 'api_trade_available_flag']\n",
    "            \n",
    "            df = pd.DataFrame(columns=columns, data=rows)\n",
    "    return df, rows, columns"
   ]
  },
  {
   "cell_type": "code",
   "execution_count": 112,
   "id": "a1c8f9aa",
   "metadata": {
    "ExecuteTime": {
     "end_time": "2023-09-13T00:00:13.354592Z",
     "start_time": "2023-09-13T00:00:13.333659Z"
    },
    "code_folding": [
     0
    ]
   },
   "outputs": [
    {
     "ename": "NameError",
     "evalue": "name 'retry_settings' is not defined",
     "output_type": "error",
     "traceback": [
      "\u001b[0;31m---------------------------------------------------------------------------\u001b[0m",
      "\u001b[0;31mNameError\u001b[0m                                 Traceback (most recent call last)",
      "\u001b[0;32m/var/folders/5h/1vkpjwr90l19cmzfgsfrcpvm0000gn/T/ipykernel_4064/1151575749.py\u001b[0m in \u001b[0;36m<module>\u001b[0;34m\u001b[0m\n\u001b[1;32m     18\u001b[0m                     \u001b[0mdf_hisrory_candles\u001b[0m \u001b[0;34m=\u001b[0m \u001b[0mdf_hisrory_candles\u001b[0m\u001b[0;34m.\u001b[0m\u001b[0m_append\u001b[0m\u001b[0;34m(\u001b[0m\u001b[0mnew_string\u001b[0m\u001b[0;34m,\u001b[0m \u001b[0mignore_index\u001b[0m\u001b[0;34m=\u001b[0m\u001b[0;32mTrue\u001b[0m\u001b[0;34m)\u001b[0m\u001b[0;34m\u001b[0m\u001b[0;34m\u001b[0m\u001b[0m\n\u001b[1;32m     19\u001b[0m \u001b[0;34m\u001b[0m\u001b[0m\n\u001b[0;32m---> 20\u001b[0;31m \u001b[0mget_historical_candles_tikers\u001b[0m\u001b[0;34m(\u001b[0m\u001b[0mfigis_tickers\u001b[0m\u001b[0;34m)\u001b[0m\u001b[0;34m\u001b[0m\u001b[0;34m\u001b[0m\u001b[0m\n\u001b[0m",
      "\u001b[0;32m/var/folders/5h/1vkpjwr90l19cmzfgsfrcpvm0000gn/T/ipykernel_4064/1151575749.py\u001b[0m in \u001b[0;36mget_historical_candles_tikers\u001b[0;34m(figis_tickers)\u001b[0m\n\u001b[1;32m      1\u001b[0m \u001b[0;31m# Функция загрузки в excel-файл исторических свечей по тикеру\u001b[0m\u001b[0;34m\u001b[0m\u001b[0;34m\u001b[0m\u001b[0m\n\u001b[1;32m      2\u001b[0m \u001b[0;32mdef\u001b[0m \u001b[0mget_historical_candles_tikers\u001b[0m\u001b[0;34m(\u001b[0m\u001b[0mfigis_tickers\u001b[0m\u001b[0;34m)\u001b[0m\u001b[0;34m:\u001b[0m\u001b[0;34m\u001b[0m\u001b[0;34m\u001b[0m\u001b[0m\n\u001b[0;32m----> 3\u001b[0;31m      \u001b[0;32mwith\u001b[0m \u001b[0mRetryingClient\u001b[0m\u001b[0;34m(\u001b[0m\u001b[0mTOKEN\u001b[0m\u001b[0;34m,\u001b[0m \u001b[0msettings\u001b[0m\u001b[0;34m=\u001b[0m\u001b[0mretry_settings\u001b[0m\u001b[0;34m)\u001b[0m \u001b[0;32mas\u001b[0m \u001b[0mclient\u001b[0m\u001b[0;34m:\u001b[0m\u001b[0;34m\u001b[0m\u001b[0;34m\u001b[0m\u001b[0m\n\u001b[0m\u001b[1;32m      4\u001b[0m         \u001b[0;32mfor\u001b[0m \u001b[0mticker\u001b[0m\u001b[0;34m,\u001b[0m \u001b[0mfigi\u001b[0m \u001b[0;32min\u001b[0m \u001b[0mzip\u001b[0m\u001b[0;34m(\u001b[0m\u001b[0mdf_figi_gosha\u001b[0m\u001b[0;34m[\u001b[0m\u001b[0;34m'ticker'\u001b[0m\u001b[0;34m]\u001b[0m\u001b[0;34m,\u001b[0m \u001b[0mdf_figis\u001b[0m\u001b[0;34m[\u001b[0m\u001b[0;34m'figi'\u001b[0m\u001b[0;34m]\u001b[0m\u001b[0;34m)\u001b[0m\u001b[0;34m:\u001b[0m\u001b[0;34m\u001b[0m\u001b[0;34m\u001b[0m\u001b[0m\n\u001b[1;32m      5\u001b[0m             \u001b[0mnew_string\u001b[0m \u001b[0;34m=\u001b[0m \u001b[0mdict\u001b[0m\u001b[0;34m(\u001b[0m\u001b[0;34m)\u001b[0m\u001b[0;34m\u001b[0m\u001b[0;34m\u001b[0m\u001b[0m\n",
      "\u001b[0;31mNameError\u001b[0m: name 'retry_settings' is not defined"
     ]
    }
   ],
   "source": [
    "# Функция загрузки в excel-файл исторических свечей по тикеру\n",
    "def get_historical_candles_tikers(figis_tickers):\n",
    "     with RetryingClient(TOKEN, settings= retry_settings) as client:\n",
    "        for ticker, figi in zip(df_figi_gosha['ticker'], df_figis['figi']):\n",
    "            new_string = dict()\n",
    "            df_hisrory_candles = pd.DataFrame()\n",
    "            for candle in client.get_all_candles(figi=figi,\n",
    "                                                 from_=now() - timedelta(days=180),\n",
    "                                                 interval=CandleInterval.CANDLE_INTERVAL_5_MIN):\n",
    "                if candle.is_complete:\n",
    "                    new_string = {'data': candle.time.date().strftime('%d-%m-%Y'),\n",
    "                                  'time': candle.time.time().strftime('%H:%M:%S'),\n",
    "                                  'open': round(candle.open.units+candle.open.nano*1e-9, 2),\n",
    "                                  'high': round(candle.high.units+candle.high.nano*1e-9, 2),\n",
    "                                  'low': round(candle.low.units+candle.low.nano*1e-9, 2),\n",
    "                                  'close': round(candle.close.units+candle.close.nano*1e-9, 2),\n",
    "                                  'volume': candle.volume}\n",
    "                    df_hisrory_candles = df_hisrory_candles._append(new_string, ignore_index=True)\n",
    "            \n",
    "get_historical_candles_tikers(figis_tickers)"
   ]
  },
  {
   "cell_type": "code",
   "execution_count": null,
   "id": "995d9fac",
   "metadata": {},
   "outputs": [],
   "source": []
  },
  {
   "cell_type": "code",
   "execution_count": null,
   "id": "e447a909",
   "metadata": {},
   "outputs": [],
   "source": []
  },
  {
   "cell_type": "code",
   "execution_count": 5,
   "id": "c80dbbbc",
   "metadata": {
    "ExecuteTime": {
     "end_time": "2023-09-14T20:45:18.205159Z",
     "start_time": "2023-09-14T20:45:18.199501Z"
    },
    "code_folding": []
   },
   "outputs": [],
   "source": [
    "# Функция получения актуальных figi из базы данных\n",
    "def get_figis_tickers(host, user, password, db_name):\n",
    "    query = 'SELECT ticker, figi from shares'\n",
    "    # Создаём подключение \n",
    "    myconn = mysql.connector.connect(host=host, user=user, passwd=password, database=db_name)\n",
    "    # Создаём курсора \n",
    "    cur = myconn.cursor() \n",
    "    try: \n",
    "        # Выполняем запрос к базе данных \n",
    "        cur.execute(query)\n",
    "        # Выгружаем результаты запроса \n",
    "        figis_tickers = cur.fetchall() \n",
    "    except:\n",
    "        # Откатываем изменения в случае ошибки соединения с базой\n",
    "        myconn.rollback()\n",
    "        print('Ошибка при работе с базой!')\n",
    "    # Закрываем соединение с базой\n",
    "    myconn.close()\n",
    "    return figis_tickers"
   ]
  },
  {
   "cell_type": "code",
   "execution_count": 48,
   "id": "c2b99697",
   "metadata": {
    "ExecuteTime": {
     "end_time": "2023-09-14T22:18:40.235478Z",
     "start_time": "2023-09-14T22:18:40.229217Z"
    },
    "code_folding": [
     1
    ]
   },
   "outputs": [],
   "source": [
    "# Функция создания таблиц в базе данных под тикер\n",
    "def creat_table_ticker(ticker, host, user, password, db_name):\n",
    "    if ticker == 'VEON-RX': ticker = 'VEON_RX'\n",
    "    query = f\"CREATE TABLE `{ticker}` (                                   \"\\\n",
    "            f\"           `datetime` datetime NOT NULL,                    \"\\\n",
    "            f\"           `open`     decimal(12,6) DEFAULT NULL,           \"\\\n",
    "            f\"           `high`     decimal(12,6) DEFAULT NULL,           \"\\\n",
    "            f\"           `low`      decimal(12,6) DEFAULT NULL,           \"\\\n",
    "            f\"           `close`    decimal(12,6) DEFAULT NULL,           \"\\\n",
    "            f\"           `volume`   bigint(18) DEFAULT NULL,              \"\\\n",
    "            f\"           UNIQUE KEY `datetime_UNIQUE` (`datetime`)        \"\\\n",
    "            f\"                        ) ENGINE=InnoDB DEFAULT CHARSET=utf8\"\n",
    "    # Создаём подключение \n",
    "    myconn = mysql.connector.connect(host=host, user=user, passwd=password, database=db_name)\n",
    "    # Создаём курсора \n",
    "    cur = myconn.cursor() \n",
    "    try: \n",
    "        # Выполняем запрос к базе данных \n",
    "        cur.execute(query)\n",
    "        # Фиксация данных в базе\n",
    "        # myconn.commit() \n",
    "        print(f'Таблица {ticker} создана! ', end='') \n",
    "    except:\n",
    "        # Откатываем изменения в случае ошибки соединения с базой\n",
    "        myconn.rollback()\n",
    "        print('Ошибка при работе с базой!')\n",
    "    # Закрываем соединение с базой\n",
    "    myconn.close()"
   ]
  },
  {
   "cell_type": "code",
   "execution_count": 41,
   "id": "34dc2c94",
   "metadata": {
    "ExecuteTime": {
     "end_time": "2023-09-14T22:05:41.495107Z",
     "start_time": "2023-09-14T22:05:41.486728Z"
    },
    "code_folding": []
   },
   "outputs": [],
   "source": [
    "# Функция загрузки свечей по параметру figi\n",
    "def get_historical_candles_figi(figi):\n",
    "    retry_settings = RetryClientSettings(use_retry=True, max_retry_attempt=2)\n",
    "    with RetryingClient(TOKEN, settings=retry_settings) as client:\n",
    "        rows = list()\n",
    "        for candle in client.get_all_candles(figi=figi, from_=now() - timedelta(days=182),\n",
    "                                             interval=CandleInterval.CANDLE_INTERVAL_5_MIN):\n",
    "            row = tuple([candle.time,#.strftime('%d-%m-%Y %H:%M:%S.%f'),\n",
    "                        candle.open.units+candle.open.nano*1e-9,\n",
    "                        candle.high.units+candle.high.nano*1e-9,\n",
    "                        candle.low.units+candle.low.nano*1e-9,\n",
    "                        candle.close.units+candle.close.nano*1e-9,\n",
    "                        candle.volume])\n",
    "            rows.append(row)\n",
    "        print(f'Получено {len(rows)} свечей!', end=' ')\n",
    "    return rows"
   ]
  },
  {
   "cell_type": "code",
   "execution_count": 50,
   "id": "4a10cb35",
   "metadata": {
    "ExecuteTime": {
     "end_time": "2023-09-14T22:18:53.958015Z",
     "start_time": "2023-09-14T22:18:53.952728Z"
    },
    "code_folding": [
     1
    ]
   },
   "outputs": [],
   "source": [
    "# Функция заполнения таблицы для тикера\n",
    "def insert_table_ticker(ticker, rows):\n",
    "    if ticker == 'VEON-RX': ticker = 'VEON_RX'\n",
    "    # Формируем запрос-вставку в базу данных\n",
    "    \n",
    "    sql =   f'insert into {ticker}(datetime, open, high, low, close, volume) '\\\n",
    "            f'values(%s, %s, %s, %s, %s, %s)'\n",
    "    # Создаём подключение \n",
    "    myconn = mysql.connector.connect(host=host, user=user, passwd=password, database=db_name)\n",
    "    # Создаём курсора \n",
    "    cur = myconn.cursor()\n",
    "    try: \n",
    "        # Выполняем вставку в базу данных \n",
    "        cur.executemany(sql, rows)\n",
    "        # Фиксация данных в базе\n",
    "        myconn.commit() \n",
    "        print(f'{ticker} внесено {cur.rowcount} записей!')\n",
    "    except:\n",
    "        # Откатываем изменения в случае ошибки соединения с базой\n",
    "        myconn.rollback()\n",
    "        print('Ошибка при работе с базой!')\n",
    "\n",
    "    # Закрываем соединение с базой\n",
    "    myconn.close()"
   ]
  },
  {
   "cell_type": "code",
   "execution_count": 22,
   "id": "fe13766b",
   "metadata": {
    "ExecuteTime": {
     "end_time": "2023-09-14T20:54:04.763943Z",
     "start_time": "2023-09-14T20:54:04.757443Z"
    },
    "code_folding": [
     1
    ]
   },
   "outputs": [],
   "source": [
    "# Функция проверки отсутствия некорректных данных в таблице\n",
    "def examination_datatables(ticker):\n",
    "     # Формируем запрос-вставку в базу данных\n",
    "    sql =   f\"select count(*) from {ticker} where open='9999.999999'\"\n",
    "    # Создаём подключение \n",
    "    myconn = mysql.connector.connect(host=host, user=user, passwd=password, database=db_name)\n",
    "    # Создаём курсора \n",
    "    cur = myconn.cursor() \n",
    "    try: \n",
    "        # Выполняем запрос к базе данных \n",
    "        cur.execute(sql)\n",
    "        # Выгружаем результаты запроса \n",
    "        result = cur.fetchall() \n",
    "        if result:\n",
    "            print(f'{ticker} записей {result}')\n",
    "    except:\n",
    "        # Откатываем изменения в случае ошибки соединения с базой\n",
    "        myconn.rollback()\n",
    "        print('Ошибка при работе с базой!')\n",
    "\n",
    "    # Закрываем соединение с базой\n",
    "    myconn.close()"
   ]
  },
  {
   "cell_type": "code",
   "execution_count": null,
   "id": "bc6fecd1",
   "metadata": {},
   "outputs": [],
   "source": []
  },
  {
   "cell_type": "code",
   "execution_count": 52,
   "id": "b61468be",
   "metadata": {
    "ExecuteTime": {
     "end_time": "2023-09-14T22:19:50.949341Z",
     "start_time": "2023-09-14T22:19:42.116425Z"
    }
   },
   "outputs": [
    {
     "name": "stdout",
     "output_type": "stream",
     "text": [
      "1. Таблица VEON_RX создана! Получено 8612 свечей! VEON_RX внесено 8612 записей!\n"
     ]
    }
   ],
   "source": [
    "# Создадим в базе данных таблицы под каждый тикер и загрузим в них исторические свечи за 180 дней\n",
    "\n",
    "# # Получаем список figi и tickere\n",
    "figis_tickers = [('VEON-RX', 'BBG00R4Z2NT4')]\n",
    "\n",
    "# Перебираем пары:\n",
    "count = 1\n",
    "for ticker, figi in figis_tickers:\n",
    "    print(f'{count}.', end=' ')\n",
    "    # Создаём таблицу тикера\n",
    "    creat_table_ticker(ticker, host, user, password, db_name)\n",
    "    # Выбираем свечи для тикера за 180 дней\n",
    "    rows = get_historical_candles_figi(figi=figi)\n",
    "    # Заполняем таблицу базы данных свечами\n",
    "    insert_table_ticker(ticker, rows)\n",
    "    count += 1"
   ]
  },
  {
   "cell_type": "code",
   "execution_count": 43,
   "id": "bfafa3d3",
   "metadata": {
    "ExecuteTime": {
     "end_time": "2023-09-14T22:12:22.976193Z",
     "start_time": "2023-09-14T22:11:52.900693Z"
    }
   },
   "outputs": [
    {
     "name": "stdout",
     "output_type": "stream",
     "text": [
      "DSKY записей [(0,)]\n",
      "ENPG записей [(0,)]\n",
      "POLY записей [(0,)]\n",
      "NKNCP записей [(0,)]\n",
      "IRKT записей [(0,)]\n",
      "MRKV записей [(0,)]\n",
      "VSMO записей [(0,)]\n",
      "UNAC записей [(0,)]\n",
      "LSRG записей [(0,)]\n",
      "TTLK записей [(0,)]\n",
      "CNTL записей [(0,)]\n",
      "MGNT записей [(0,)]\n",
      "SVAV записей [(0,)]\n",
      "ETLN записей [(0,)]\n",
      "RTKMP записей [(0,)]\n",
      "GEMC записей [(0,)]\n",
      "KZOSP записей [(0,)]\n",
      "WUSH записей [(0,)]\n",
      "KMAZ записей [(0,)]\n",
      "KZOS записей [(0,)]\n",
      "FIXP записей [(0,)]\n",
      "VKCO записей [(0,)]\n",
      "PHOR записей [(0,)]\n",
      "HHRU записей [(0,)]\n",
      "LNZL записей [(0,)]\n",
      "MGTSP записей [(0,)]\n",
      "ELFV записей [(0,)]\n",
      "SELG записей [(0,)]\n",
      "AGRO записей [(0,)]\n",
      "TATNP записей [(0,)]\n",
      "Ошибка при работе с базой!\n",
      "BLNG записей [(0,)]\n",
      "PRFN записей [(0,)]\n",
      "MAGN записей [(0,)]\n",
      "VTBR записей [(0,)]\n",
      "SMLT записей [(0,)]\n",
      "BANE записей [(0,)]\n",
      "AFLT записей [(0,)]\n",
      "CIAN записей [(0,)]\n",
      "CARM записей [(0,)]\n",
      "RUAL записей [(0,)]\n",
      "NKHP записей [(0,)]\n",
      "SBER записей [(0,)]\n",
      "GECO записей [(0,)]\n",
      "MDMG записей [(0,)]\n",
      "GTRK записей [(0,)]\n",
      "MVID записей [(0,)]\n",
      "BANEP записей [(0,)]\n",
      "OKEY записей [(0,)]\n",
      "ALRS записей [(0,)]\n",
      "MRKP записей [(0,)]\n",
      "FLOT записей [(0,)]\n",
      "PMSBP записей [(0,)]\n",
      "TATN записей [(0,)]\n",
      "FIVE записей [(0,)]\n",
      "MSTT записей [(0,)]\n",
      "MTLR записей [(0,)]\n",
      "ABIO записей [(0,)]\n",
      "UWGN записей [(0,)]\n",
      "AKRN записей [(0,)]\n",
      "GAZP записей [(0,)]\n",
      "DVEC записей [(0,)]\n",
      "SBERP записей [(0,)]\n",
      "RTKM записей [(0,)]\n",
      "LENT записей [(0,)]\n",
      "LIFE записей [(0,)]\n",
      "BSPB записей [(0,)]\n",
      "MTSS записей [(0,)]\n",
      "TGKN записей [(0,)]\n",
      "TRNFP записей [(0,)]\n",
      "RKKE записей [(0,)]\n",
      "LSNG записей [(0,)]\n",
      "RENI записей [(0,)]\n",
      "MRKC записей [(0,)]\n",
      "POSI записей [(0,)]\n",
      "FEES записей [(0,)]\n",
      "KROT записей [(0,)]\n",
      "KAZT записей [(0,)]\n",
      "RUGR записей [(0,)]\n",
      "PMSB записей [(0,)]\n",
      "SIBN записей [(0,)]\n",
      "YAKG записей [(0,)]\n",
      "TGKB записей [(0,)]\n",
      "KLSB записей [(0,)]\n",
      "CHMK записей [(0,)]\n",
      "RNFT записей [(0,)]\n",
      "MSRS записей [(0,)]\n",
      "MRKZ записей [(0,)]\n",
      "APTK записей [(0,)]\n",
      "QIWI записей [(0,)]\n",
      "IRAO записей [(0,)]\n",
      "HYDR записей [(0,)]\n",
      "NSVZ записей [(0,)]\n",
      "NLMK записей [(0,)]\n",
      "BELU записей [(0,)]\n",
      "GCHE записей [(0,)]\n",
      "LNZLP записей [(0,)]\n",
      "TCSG записей [(0,)]\n",
      "SNGSP записей [(0,)]\n",
      "YNDX записей [(0,)]\n",
      "SFIN записей [(0,)]\n",
      "FESH записей [(0,)]\n",
      "RASP записей [(0,)]\n",
      "NVTK записей [(0,)]\n",
      "UNKL записей [(0,)]\n",
      "NKNC записей [(0,)]\n",
      "AQUA записей [(0,)]\n",
      "VRSB записей [(0,)]\n",
      "SGZH записей [(0,)]\n",
      "LSNGP записей [(0,)]\n",
      "GMKN записей [(0,)]\n",
      "MOEX записей [(0,)]\n",
      "UPRO записей [(0,)]\n",
      "MRKS записей [(0,)]\n",
      "ROLO записей [(0,)]\n",
      "MSNG записей [(0,)]\n",
      "AFKS записей [(0,)]\n",
      "SFTL записей [(0,)]\n",
      "PLZL записей [(0,)]\n",
      "OZON записей [(0,)]\n",
      "LKOH записей [(0,)]\n",
      "OGKB записей [(0,)]\n",
      "GLTR записей [(0,)]\n",
      "KAZTP записей [(0,)]\n",
      "NMTP записей [(0,)]\n",
      "TGKA записей [(0,)]\n",
      "SNGS записей [(0,)]\n",
      "CBOM записей [(0,)]\n",
      "AMEZ записей [(0,)]\n",
      "TGKBP записей [(0,)]\n",
      "ABRD записей [(0,)]\n",
      "CNTLP записей [(0,)]\n",
      "PIKK записей [(0,)]\n",
      "ROSN записей [(0,)]\n",
      "MTLRP записей [(0,)]\n",
      "TRMK записей [(0,)]\n",
      "MRKU записей [(0,)]\n",
      "MRKY записей [(0,)]\n",
      "KRKNP записей [(0,)]\n",
      "CHMF записей [(0,)]\n"
     ]
    }
   ],
   "source": [
    "# Проверка заполненности таблиц\n",
    "figis_tickers = get_figis_tickers(host, user, password, db_name)\n",
    "for ticker, figi in figis_tickers:\n",
    "    examination_datatables(ticker)"
   ]
  },
  {
   "cell_type": "code",
   "execution_count": 44,
   "id": "d9b34c52",
   "metadata": {
    "ExecuteTime": {
     "end_time": "2023-09-14T22:13:29.072350Z",
     "start_time": "2023-09-14T22:13:29.060514Z"
    }
   },
   "outputs": [
    {
     "data": {
      "text/plain": [
       "[('DSKY', 'BBG000BN56Q9'),\n",
       " ('ENPG', 'BBG000RMWQD4'),\n",
       " ('POLY', 'BBG004PYF2N3'),\n",
       " ('NKNCP', 'BBG000GQSVC2'),\n",
       " ('IRKT', 'BBG000FWGSZ5'),\n",
       " ('MRKV', 'BBG000PKWCQ7'),\n",
       " ('VSMO', 'BBG004S68CV8'),\n",
       " ('UNAC', 'BBG000Q7ZZY2'),\n",
       " ('LSRG', 'BBG004S68C39'),\n",
       " ('TTLK', 'BBG000RJL816'),\n",
       " ('CNTL', 'BBG000BBV4M5'),\n",
       " ('MGNT', 'BBG004RVFCY3'),\n",
       " ('SVAV', 'BBG004S68JR8'),\n",
       " ('ETLN', 'BBG001M2SC01'),\n",
       " ('RTKMP', 'BBG004S685M3'),\n",
       " ('GEMC', 'BBG011MCM288'),\n",
       " ('KZOSP', 'BBG0029SG1C1'),\n",
       " ('WUSH', 'TCS00A105EX7'),\n",
       " ('KMAZ', 'BBG000LNHHJ9'),\n",
       " ('KZOS', 'BBG0029SFXB3'),\n",
       " ('FIXP', 'BBG00ZHCX1X2'),\n",
       " ('VKCO', 'BBG00178PGX3'),\n",
       " ('PHOR', 'BBG004S689R0'),\n",
       " ('HHRU', 'TCS2207L1061'),\n",
       " ('LNZL', 'BBG000SK7JS5'),\n",
       " ('MGTSP', 'BBG000PZ0833'),\n",
       " ('ELFV', 'BBG000F6YPH8'),\n",
       " ('SELG', 'BBG002458LF8'),\n",
       " ('AGRO', 'BBG007N0Z367'),\n",
       " ('TATNP', 'BBG004S68829'),\n",
       " ('VEON-RX', 'BBG00R4Z2NT4'),\n",
       " ('BLNG', 'BBG000VQWH86'),\n",
       " ('PRFN', 'TCS00A0JNXF9'),\n",
       " ('MAGN', 'BBG004S68507'),\n",
       " ('VTBR', 'BBG004730ZJ9'),\n",
       " ('SMLT', 'BBG00F6NKQX3'),\n",
       " ('BANE', 'BBG004S68758'),\n",
       " ('AFLT', 'BBG004S683W7'),\n",
       " ('CIAN', 'BBG012YQ6P43'),\n",
       " ('CARM', 'TCS00A105NV2'),\n",
       " ('RUAL', 'BBG008F2T3T2'),\n",
       " ('NKHP', 'BBG00BGKYH17'),\n",
       " ('SBER', 'BBG004730N88'),\n",
       " ('GECO', 'TCS00A105BN4'),\n",
       " ('MDMG', 'BBG00Y3XYV94'),\n",
       " ('GTRK', 'BBG00HY6V6H5'),\n",
       " ('MVID', 'BBG004S68CP5'),\n",
       " ('BANEP', 'BBG004S686N0'),\n",
       " ('OKEY', 'BBG00172J7S9'),\n",
       " ('ALRS', 'BBG004S68B31'),\n",
       " ('MRKP', 'BBG000VG1034'),\n",
       " ('FLOT', 'BBG000R04X57'),\n",
       " ('PMSBP', 'BBG000MZL2S9'),\n",
       " ('TATN', 'BBG004RVFFC0'),\n",
       " ('FIVE', 'BBG00JXPFBN0'),\n",
       " ('MSTT', 'BBG004S68DD6'),\n",
       " ('MTLR', 'BBG004S68598'),\n",
       " ('ABIO', 'TCS10A0JNAB6'),\n",
       " ('UWGN', 'BBG008HD3V85'),\n",
       " ('AKRN', 'BBG004S688G4'),\n",
       " ('GAZP', 'BBG004730RP0'),\n",
       " ('DVEC', 'BBG000V07CB8'),\n",
       " ('SBERP', 'BBG0047315Y7'),\n",
       " ('RTKM', 'BBG004S682Z6'),\n",
       " ('LENT', 'BBG0063FKTD9'),\n",
       " ('LIFE', 'BBG0019K04R5'),\n",
       " ('BSPB', 'BBG000QJW156'),\n",
       " ('MTSS', 'BBG004S681W1'),\n",
       " ('TGKN', 'BBG000RG4ZQ4'),\n",
       " ('TRNFP', 'BBG00475KHX6'),\n",
       " ('RKKE', 'BBG000LWNRP3'),\n",
       " ('LSNG', 'BBG000NLC9Z6'),\n",
       " ('RENI', 'BBG00QKJSX05'),\n",
       " ('MRKC', 'BBG000VH7TZ8'),\n",
       " ('POSI', 'TCS00A103X66'),\n",
       " ('FEES', 'BBG00475JZZ6'),\n",
       " ('KROT', 'BBG000NLB2G3'),\n",
       " ('KAZT', 'BBG002B9MYC1'),\n",
       " ('RUGR', 'BBG0014PFYM2'),\n",
       " ('PMSB', 'BBG000MZL0Y6'),\n",
       " ('SIBN', 'BBG004S684M6'),\n",
       " ('YAKG', 'BBG002B298N6'),\n",
       " ('TGKB', 'BBG000Q7GG57'),\n",
       " ('KLSB', 'BBG000DBD6F6'),\n",
       " ('CHMK', 'BBG000RP8V70'),\n",
       " ('RNFT', 'BBG00F9XX7H4'),\n",
       " ('MSRS', 'BBG004S687G6'),\n",
       " ('MRKZ', 'BBG000TJ6F42'),\n",
       " ('APTK', 'BBG000K3STR7'),\n",
       " ('QIWI', 'BBG005D1WCQ1'),\n",
       " ('IRAO', 'BBG004S68473'),\n",
       " ('HYDR', 'BBG00475K2X9'),\n",
       " ('NSVZ', 'BBG002BCQK67'),\n",
       " ('NLMK', 'BBG004S681B4'),\n",
       " ('BELU', 'BBG000TY1CD1'),\n",
       " ('GCHE', 'BBG000RTHVK7'),\n",
       " ('LNZLP', 'BBG000SR0YS4'),\n",
       " ('TCSG', 'BBG00QPYJ5H0'),\n",
       " ('SNGSP', 'BBG004S681M2'),\n",
       " ('YNDX', 'BBG006L8G4H1'),\n",
       " ('SFIN', 'BBG003LYCMB1'),\n",
       " ('FESH', 'BBG000QF1Q17'),\n",
       " ('RASP', 'BBG004S68696'),\n",
       " ('NVTK', 'BBG00475KKY8'),\n",
       " ('UNKL', 'BBG002YFXL29'),\n",
       " ('NKNC', 'BBG000GQSRR5'),\n",
       " ('AQUA', 'BBG000W325F7'),\n",
       " ('VRSB', 'BBG000BX7DH0'),\n",
       " ('SGZH', 'BBG0100R9963'),\n",
       " ('LSNGP', 'BBG000NLCCM3'),\n",
       " ('GMKN', 'BBG004731489'),\n",
       " ('MOEX', 'BBG004730JJ5'),\n",
       " ('UPRO', 'BBG004S686W0'),\n",
       " ('MRKS', 'BBG000VJMH65'),\n",
       " ('ROLO', 'BBG004Z2RGW8'),\n",
       " ('MSNG', 'BBG004S687W8'),\n",
       " ('AFKS', 'BBG004S68614'),\n",
       " ('SFTL', 'BBG0136BTL03'),\n",
       " ('PLZL', 'BBG000R607Y3'),\n",
       " ('OZON', 'BBG00Y91R9T3'),\n",
       " ('LKOH', 'BBG004731032'),\n",
       " ('OGKB', 'BBG000RK52V1'),\n",
       " ('GLTR', 'BBG000VFX6Y4'),\n",
       " ('KAZTP', 'BBG002B9T6Y1'),\n",
       " ('NMTP', 'BBG004S68BR5'),\n",
       " ('TGKA', 'BBG000QFH687'),\n",
       " ('SNGS', 'BBG0047315D0'),\n",
       " ('CBOM', 'BBG009GSYN76'),\n",
       " ('AMEZ', 'BBG000RJWGC4'),\n",
       " ('TGKBP', 'BBG000Q7GJ60'),\n",
       " ('ABRD', 'BBG002W2FT69'),\n",
       " ('CNTLP', 'BBG0027F0Y27'),\n",
       " ('PIKK', 'BBG004S68BH6'),\n",
       " ('ROSN', 'BBG004731354'),\n",
       " ('MTLRP', 'BBG004S68FR6'),\n",
       " ('TRMK', 'BBG004TC84Z8'),\n",
       " ('MRKU', 'BBG000VKG4R5'),\n",
       " ('MRKY', 'BBG000C7P5M7'),\n",
       " ('KRKNP', 'BBG002B2J5X0'),\n",
       " ('CHMF', 'BBG00475K6C3')]"
      ]
     },
     "execution_count": 44,
     "metadata": {},
     "output_type": "execute_result"
    }
   ],
   "source": [
    "figis_tickers"
   ]
  },
  {
   "cell_type": "markdown",
   "id": "8f221c43",
   "metadata": {},
   "source": [
    "# 1. Писоединяемся к базе данных MySQL на удалённом сервере"
   ]
  },
  {
   "cell_type": "code",
   "execution_count": 41,
   "id": "ad600b73",
   "metadata": {
    "ExecuteTime": {
     "end_time": "2023-09-12T21:38:58.139438Z",
     "start_time": "2023-09-12T21:38:58.135289Z"
    }
   },
   "outputs": [],
   "source": [
    "# Формируем запросы\n",
    "query = 'SELECT VERSION()'\n",
    "query1 = \"SHOW VARIABLES LIKE '%version%'\"\n",
    "query2 = 'SHOW DATABASES'\n",
    "query3 = 'SHOW TABLES'\n",
    "query4 = 'SELECT * FROM share_type'\n",
    "query5 = 'SELECT * FROM trading_status'\n",
    "query6 = 'SELECT * FROM shares'"
   ]
  },
  {
   "cell_type": "code",
   "execution_count": 43,
   "id": "a38565f2",
   "metadata": {
    "ExecuteTime": {
     "end_time": "2023-09-12T21:39:22.233421Z",
     "start_time": "2023-09-12T21:39:22.023918Z"
    }
   },
   "outputs": [
    {
     "name": "stdout",
     "output_type": "stream",
     "text": [
      "('share_type',)\n",
      "('shares',)\n",
      "('trading_status',)\n"
     ]
    }
   ],
   "source": [
    "# Создаём подключение \n",
    "myconn = mysql.connector.connect(host=host, user=user, passwd=password, database=db_name)\n",
    "# Создаём курсора \n",
    "cur = myconn.cursor() \n",
    "try: \n",
    "    # Выполняем запрос к базе данных \n",
    "    cur.execute(query3)\n",
    "    # Выгружаем результаты запроса \n",
    "    result = cur.fetchall() \n",
    "    # Печатаем результаты запроса\n",
    "    for x in result: \n",
    "        print(x); \n",
    "except:\n",
    "    # Откатываем изменения в случае ошибки соединения с базой\n",
    "    myconn.rollback() \n",
    "# Закрываем соединение с базой\n",
    "myconn.close()"
   ]
  },
  {
   "cell_type": "code",
   "execution_count": 26,
   "id": "16778ad2",
   "metadata": {
    "ExecuteTime": {
     "end_time": "2023-09-14T21:41:39.960189Z",
     "start_time": "2023-09-14T21:41:39.956053Z"
    }
   },
   "outputs": [],
   "source": [
    "tickers = [('VSMO',), ('LNZL',), ('AKRN',),\n",
    "           ('TRNFP',), ('RKKE',), ('CHMK',),\n",
    "           ('UNKL',), ('GMKN',), ('PLZL',),\n",
    "           ('KRKNP',)]"
   ]
  },
  {
   "cell_type": "code",
   "execution_count": 31,
   "id": "e62f4916",
   "metadata": {
    "ExecuteTime": {
     "end_time": "2023-09-14T21:48:34.493005Z",
     "start_time": "2023-09-14T21:48:34.259266Z"
    }
   },
   "outputs": [
    {
     "name": "stdout",
     "output_type": "stream",
     "text": [
      "[('AKRN', 'BBG004S688G4'), ('CHMK', 'BBG000RP8V70'), ('GMKN', 'BBG004731489'), ('KRKNP', 'BBG002B2J5X0'), ('LNZL', 'BBG000SK7JS5'), ('PLZL', 'BBG000R607Y3'), ('RKKE', 'BBG000LWNRP3'), ('TRNFP', 'BBG00475KHX6'), ('UNKL', 'BBG002YFXL29'), ('VSMO', 'BBG004S68CV8')]\n"
     ]
    }
   ],
   "source": [
    "# Создаём подключение \n",
    "myconn = mysql.connector.connect(host=host, user=user, passwd=password, database=db_name)\n",
    "# Создаём курсора \n",
    "cur = myconn.cursor()\n",
    "# Создаём запрос\n",
    "sql = f\"select ticker, figi from shares \"\\\n",
    "      f\"where ticker in ('VSMO', 'LNZL', 'AKRN', 'TRNFP', 'RKKE' , 'CHMK', 'UNKL', 'GMKN', 'PLZL', 'KRKNP')\"\n",
    "try: \n",
    "    # Выполняем запрос к базе данных \n",
    "    cur.execute(sql)\n",
    "    # Выгружаем результаты запроса \n",
    "    result = cur.fetchall() \n",
    "    # Печатаем результаты запроса\n",
    "    print(result); \n",
    "except:\n",
    "    # Откатываем изменения в случае ошибки соединения с базой\n",
    "    myconn.rollback()\n",
    "    print('Ошибка подключения к базе данных')\n",
    "# Закрываем соединение с базой\n",
    "myconn.close()"
   ]
  },
  {
   "cell_type": "code",
   "execution_count": 37,
   "id": "d43f55fd",
   "metadata": {
    "ExecuteTime": {
     "end_time": "2023-09-14T21:51:12.859978Z",
     "start_time": "2023-09-14T21:51:12.856220Z"
    }
   },
   "outputs": [],
   "source": [
    " tickers = [('VSMO',), ('LNZL',), ('AKRN',),\n",
    "                 ('TRNFP',), ('RKKE',), ('CHMK',),\n",
    "                 ('UNKL',), ('GMKN',), ('PLZL',),\n",
    "                 ('KRKNP',)] #get_figis_tickers(host, user, password, db_name)\n",
    "tickers.sort()"
   ]
  },
  {
   "cell_type": "code",
   "execution_count": 38,
   "id": "1cd0ac45",
   "metadata": {
    "ExecuteTime": {
     "end_time": "2023-09-14T21:51:19.882686Z",
     "start_time": "2023-09-14T21:51:19.869436Z"
    }
   },
   "outputs": [
    {
     "data": {
      "text/plain": [
       "[('AKRN',),\n",
       " ('CHMK',),\n",
       " ('GMKN',),\n",
       " ('KRKNP',),\n",
       " ('LNZL',),\n",
       " ('PLZL',),\n",
       " ('RKKE',),\n",
       " ('TRNFP',),\n",
       " ('UNKL',),\n",
       " ('VSMO',)]"
      ]
     },
     "execution_count": 38,
     "metadata": {},
     "output_type": "execute_result"
    }
   ],
   "source": [
    "tickers"
   ]
  },
  {
   "cell_type": "code",
   "execution_count": null,
   "id": "9cfc94a2",
   "metadata": {},
   "outputs": [],
   "source": []
  },
  {
   "cell_type": "code",
   "execution_count": null,
   "id": "45acecc0",
   "metadata": {},
   "outputs": [],
   "source": []
  },
  {
   "cell_type": "code",
   "execution_count": null,
   "id": "aeb612c8",
   "metadata": {},
   "outputs": [],
   "source": []
  },
  {
   "cell_type": "markdown",
   "id": "907c1703",
   "metadata": {},
   "source": [
    "# 2. Формируем базу данных инструментов (только акции)"
   ]
  },
  {
   "cell_type": "markdown",
   "id": "c87d5e40",
   "metadata": {
    "ExecuteTime": {
     "end_time": "2023-09-10T14:06:46.781718Z",
     "start_time": "2023-09-10T14:06:46.652272Z"
    },
    "cell_style": "split"
   },
   "source": [
    "![](./Pictures/trading_instrument_dentifiers.png)"
   ]
  },
  {
   "cell_type": "markdown",
   "id": "1cd6c2c6",
   "metadata": {
    "cell_style": "split"
   },
   "source": [
    "![](./Pictures/financial_instrument_identifiers.png)"
   ]
  },
  {
   "cell_type": "markdown",
   "id": "086b9c05",
   "metadata": {},
   "source": [
    "## 2.1. Формируем таблицу ИНСТРУМЕНТОВ (акций) Московской биржи (и прочие) https://tinkoff.github.io/investAPI/instruments/#share"
   ]
  },
  {
   "cell_type": "code",
   "execution_count": 28,
   "id": "69c6fe93",
   "metadata": {
    "ExecuteTime": {
     "end_time": "2023-09-12T21:08:43.041616Z",
     "start_time": "2023-09-12T21:08:43.038591Z"
    }
   },
   "outputs": [],
   "source": [
    "# Расположение базы данных и отчётов\n",
    "data_path = './Data/'"
   ]
  },
  {
   "cell_type": "code",
   "execution_count": 71,
   "id": "15ef862d",
   "metadata": {
    "ExecuteTime": {
     "end_time": "2023-09-12T22:36:03.101814Z",
     "start_time": "2023-09-12T22:35:42.574470Z"
    }
   },
   "outputs": [],
   "source": [
    "# Посчитаем сколько и какие акции обращаются на какой бирже\n",
    "# Признак биржи: 0 - не определён, 1 - Московская, 2 - Притерская, 3 - вне биржи\n",
    "for EXCHANGE in [0, 1, 2, 3]:\n",
    "    df, rows, columns = get_instruments(EXCHANGE)\n",
    "    if EXCHANGE == 2:\n",
    "        df.to_excel(f'{data_path}Питерская биржа на Тинькофф ({len(df)} акций).xlsx', index=False)\n",
    "    elif EXCHANGE == 1:\n",
    "        COUNT_SHARE_MOEX = len(df)\n",
    "        df_MOEX = df.copy()\n",
    "        rows_MOEX = rows\n",
    "        columns_MOEX = columns\n",
    "        df_MOEX.to_excel(f'{data_path}Московская биржа на Тинькофф ({COUNT_SHARE_MOEX} акций).xlsx', index=False)\n",
    "    elif EXCHANGE == 3:\n",
    "        df.to_excel(f'{data_path}Вне биржи на Тинькофф ({len(df)} акций).xlsx', index=False)\n",
    "    else:\n",
    "        df.to_excel(f'{data_path}Биржа не определена на Тинькофф ({len(df)} акций).xlsx', index=False)\n",
    "del df, rows, columns"
   ]
  },
  {
   "cell_type": "code",
   "execution_count": 72,
   "id": "79733340",
   "metadata": {
    "ExecuteTime": {
     "end_time": "2023-09-12T22:36:03.333785Z",
     "start_time": "2023-09-12T22:36:03.312849Z"
    }
   },
   "outputs": [
    {
     "data": {
      "text/html": [
       "<div>\n",
       "<style scoped>\n",
       "    .dataframe tbody tr th:only-of-type {\n",
       "        vertical-align: middle;\n",
       "    }\n",
       "\n",
       "    .dataframe tbody tr th {\n",
       "        vertical-align: top;\n",
       "    }\n",
       "\n",
       "    .dataframe thead th {\n",
       "        text-align: right;\n",
       "    }\n",
       "</style>\n",
       "<table border=\"1\" class=\"dataframe\">\n",
       "  <thead>\n",
       "    <tr style=\"text-align: right;\">\n",
       "      <th></th>\n",
       "      <th>name</th>\n",
       "      <th>ticker</th>\n",
       "      <th>lot</th>\n",
       "      <th>min_price_increment</th>\n",
       "      <th>sector</th>\n",
       "      <th>exchange</th>\n",
       "      <th>nominal_currency</th>\n",
       "      <th>nominal_value</th>\n",
       "      <th>issue_size</th>\n",
       "      <th>figi</th>\n",
       "      <th>class_code</th>\n",
       "      <th>isin</th>\n",
       "      <th>uid</th>\n",
       "      <th>position_uid</th>\n",
       "      <th>id_share_type</th>\n",
       "      <th>id_trading_status</th>\n",
       "      <th>short_enabled_flag</th>\n",
       "      <th>buy_available_flag</th>\n",
       "      <th>sell_available_flag</th>\n",
       "      <th>div_yield_flag</th>\n",
       "      <th>api_trade_available_flag</th>\n",
       "    </tr>\n",
       "  </thead>\n",
       "  <tbody>\n",
       "    <tr>\n",
       "      <th>0</th>\n",
       "      <td>Детский Мир</td>\n",
       "      <td>DSKY</td>\n",
       "      <td>10</td>\n",
       "      <td>0.02</td>\n",
       "      <td>consumer</td>\n",
       "      <td>MOEX</td>\n",
       "      <td>rub</td>\n",
       "      <td>0.00040</td>\n",
       "      <td>739000000</td>\n",
       "      <td>BBG000BN56Q9</td>\n",
       "      <td>TQBR</td>\n",
       "      <td>RU000A0JSQ90</td>\n",
       "      <td>6e061639-6198-4448-9568-1eadb1b0e127</td>\n",
       "      <td>e07311a4-fac4-472b-b1d7-c3a7b3e56a6d</td>\n",
       "      <td>1</td>\n",
       "      <td>1</td>\n",
       "      <td>False</td>\n",
       "      <td>True</td>\n",
       "      <td>True</td>\n",
       "      <td>True</td>\n",
       "      <td>True</td>\n",
       "    </tr>\n",
       "    <tr>\n",
       "      <th>1</th>\n",
       "      <td>En+ Group</td>\n",
       "      <td>ENPG</td>\n",
       "      <td>1</td>\n",
       "      <td>0.20</td>\n",
       "      <td>materials</td>\n",
       "      <td>MOEX_EVENING_WEEKEND</td>\n",
       "      <td>usd</td>\n",
       "      <td>0.00007</td>\n",
       "      <td>638848896</td>\n",
       "      <td>BBG000RMWQD4</td>\n",
       "      <td>TQBR</td>\n",
       "      <td>RU000A100K72</td>\n",
       "      <td>e2bd2eba-75de-4127-b39c-2f2dbe3866c3</td>\n",
       "      <td>62dae90c-238b-433d-ae4e-47c72b324bc7</td>\n",
       "      <td>1</td>\n",
       "      <td>1</td>\n",
       "      <td>False</td>\n",
       "      <td>True</td>\n",
       "      <td>True</td>\n",
       "      <td>False</td>\n",
       "      <td>True</td>\n",
       "    </tr>\n",
       "    <tr>\n",
       "      <th>2</th>\n",
       "      <td>Polymetal</td>\n",
       "      <td>POLY</td>\n",
       "      <td>1</td>\n",
       "      <td>0.10</td>\n",
       "      <td>materials</td>\n",
       "      <td>MOEX_PLUS</td>\n",
       "      <td>usd</td>\n",
       "      <td>0.03000</td>\n",
       "      <td>473626239</td>\n",
       "      <td>BBG004PYF2N3</td>\n",
       "      <td>TQBR</td>\n",
       "      <td>JE00B6T5S470</td>\n",
       "      <td>127361c2-32ec-448c-b3ec-602166f537ea</td>\n",
       "      <td>f869a0b6-e4cd-4e15-a25a-095c936f2e3f</td>\n",
       "      <td>1</td>\n",
       "      <td>1</td>\n",
       "      <td>False</td>\n",
       "      <td>True</td>\n",
       "      <td>True</td>\n",
       "      <td>True</td>\n",
       "      <td>True</td>\n",
       "    </tr>\n",
       "    <tr>\n",
       "      <th>3</th>\n",
       "      <td>Нижнекамскнефтехим - акции привилегированные</td>\n",
       "      <td>NKNCP</td>\n",
       "      <td>10</td>\n",
       "      <td>0.02</td>\n",
       "      <td>materials</td>\n",
       "      <td>MOEX</td>\n",
       "      <td>rub</td>\n",
       "      <td>1.00000</td>\n",
       "      <td>218983750</td>\n",
       "      <td>BBG000GQSVC2</td>\n",
       "      <td>TQBR</td>\n",
       "      <td>RU0006765096</td>\n",
       "      <td>bc21fb4f-8838-4355-8697-fb0d8fc809c8</td>\n",
       "      <td>7b7201cb-fe73-49a8-95d6-bd5edf4b849c</td>\n",
       "      <td>2</td>\n",
       "      <td>1</td>\n",
       "      <td>True</td>\n",
       "      <td>True</td>\n",
       "      <td>True</td>\n",
       "      <td>True</td>\n",
       "      <td>True</td>\n",
       "    </tr>\n",
       "    <tr>\n",
       "      <th>4</th>\n",
       "      <td>Яковлев</td>\n",
       "      <td>IRKT</td>\n",
       "      <td>100</td>\n",
       "      <td>0.05</td>\n",
       "      <td>industrials</td>\n",
       "      <td>MOEX</td>\n",
       "      <td>rub</td>\n",
       "      <td>3.00000</td>\n",
       "      <td>2085163865</td>\n",
       "      <td>BBG000FWGSZ5</td>\n",
       "      <td>TQBR</td>\n",
       "      <td>RU0006752979</td>\n",
       "      <td>cfb50a23-2465-497e-bc7e-e4f0e042cf3d</td>\n",
       "      <td>1a583ddf-b4af-426b-890f-2749767a8379</td>\n",
       "      <td>1</td>\n",
       "      <td>1</td>\n",
       "      <td>False</td>\n",
       "      <td>True</td>\n",
       "      <td>True</td>\n",
       "      <td>True</td>\n",
       "      <td>True</td>\n",
       "    </tr>\n",
       "  </tbody>\n",
       "</table>\n",
       "</div>"
      ],
      "text/plain": [
       "                                           name ticker  lot  \\\n",
       "0                                   Детский Мир   DSKY   10   \n",
       "1                                     En+ Group   ENPG    1   \n",
       "2                                     Polymetal   POLY    1   \n",
       "3  Нижнекамскнефтехим - акции привилегированные  NKNCP   10   \n",
       "4                                       Яковлев   IRKT  100   \n",
       "\n",
       "   min_price_increment       sector              exchange nominal_currency  \\\n",
       "0                 0.02     consumer                  MOEX              rub   \n",
       "1                 0.20    materials  MOEX_EVENING_WEEKEND              usd   \n",
       "2                 0.10    materials             MOEX_PLUS              usd   \n",
       "3                 0.02    materials                  MOEX              rub   \n",
       "4                 0.05  industrials                  MOEX              rub   \n",
       "\n",
       "   nominal_value  issue_size          figi class_code          isin  \\\n",
       "0        0.00040   739000000  BBG000BN56Q9       TQBR  RU000A0JSQ90   \n",
       "1        0.00007   638848896  BBG000RMWQD4       TQBR  RU000A100K72   \n",
       "2        0.03000   473626239  BBG004PYF2N3       TQBR  JE00B6T5S470   \n",
       "3        1.00000   218983750  BBG000GQSVC2       TQBR  RU0006765096   \n",
       "4        3.00000  2085163865  BBG000FWGSZ5       TQBR  RU0006752979   \n",
       "\n",
       "                                    uid                          position_uid  \\\n",
       "0  6e061639-6198-4448-9568-1eadb1b0e127  e07311a4-fac4-472b-b1d7-c3a7b3e56a6d   \n",
       "1  e2bd2eba-75de-4127-b39c-2f2dbe3866c3  62dae90c-238b-433d-ae4e-47c72b324bc7   \n",
       "2  127361c2-32ec-448c-b3ec-602166f537ea  f869a0b6-e4cd-4e15-a25a-095c936f2e3f   \n",
       "3  bc21fb4f-8838-4355-8697-fb0d8fc809c8  7b7201cb-fe73-49a8-95d6-bd5edf4b849c   \n",
       "4  cfb50a23-2465-497e-bc7e-e4f0e042cf3d  1a583ddf-b4af-426b-890f-2749767a8379   \n",
       "\n",
       "   id_share_type  id_trading_status  short_enabled_flag  buy_available_flag  \\\n",
       "0              1                  1               False                True   \n",
       "1              1                  1               False                True   \n",
       "2              1                  1               False                True   \n",
       "3              2                  1                True                True   \n",
       "4              1                  1               False                True   \n",
       "\n",
       "   sell_available_flag  div_yield_flag  api_trade_available_flag  \n",
       "0                 True            True                      True  \n",
       "1                 True           False                      True  \n",
       "2                 True            True                      True  \n",
       "3                 True            True                      True  \n",
       "4                 True            True                      True  "
      ]
     },
     "execution_count": 72,
     "metadata": {},
     "output_type": "execute_result"
    }
   ],
   "source": [
    "df_MOEX.head(5)"
   ]
  },
  {
   "cell_type": "code",
   "execution_count": 39,
   "id": "37a28287",
   "metadata": {
    "ExecuteTime": {
     "end_time": "2023-09-12T21:21:34.183092Z",
     "start_time": "2023-09-12T21:21:34.178178Z"
    }
   },
   "outputs": [],
   "source": [
    "# Оптимизируем используемую память отчищая массив с акциями на Московской бирже\n",
    "del df_MOEX"
   ]
  },
  {
   "cell_type": "code",
   "execution_count": 32,
   "id": "fd691e8c",
   "metadata": {
    "ExecuteTime": {
     "end_time": "2023-09-12T21:12:10.719197Z",
     "start_time": "2023-09-12T21:12:10.525177Z"
    }
   },
   "outputs": [],
   "source": [
    "# Акции, не вошедшие в API_Tinkoff, которые есть в списке Стёпы\n",
    "df_stepa = pd.read_excel(f'{data_path}Тикеры ММВБ.xlsx')\n",
    "non_in_list_Tinkoff = set(df_stepa['Тикер']) - set(pd.\n",
    "                     read_excel(f'{data_path}Московская биржа на Тинькофф ({COUNT_SHARE_MOEX} акций).xlsx')['ticker'])\n",
    "df_delta_stepa = df_stepa[df_stepa['Тикер'].isin(non_in_list_Tinkoff)]\n",
    "df_delta_stepa.to_excel(f'{data_path}Есть у Стёпы и нет у Тинкофф ({len(df_delta_stepa)} акций).xlsx', index=False)"
   ]
  },
  {
   "cell_type": "code",
   "execution_count": 33,
   "id": "932e6a35",
   "metadata": {
    "ExecuteTime": {
     "end_time": "2023-09-12T21:12:16.199949Z",
     "start_time": "2023-09-12T21:12:16.097228Z"
    }
   },
   "outputs": [],
   "source": [
    "# Акции, не вошедшие в API_Tinkoff, которые есть в списке Гоши\n",
    "df_gosha = pd.read_excel(f'{data_path}Список инструментов для анализа.xlsx', header=1)\n",
    "non_in_list_Tinkoff_gosha = set(df_gosha['Тикер']) - set(pd.\n",
    "                     read_excel(f'{data_path}Московская биржа на Тинькофф ({COUNT_SHARE_MOEX} акций).xlsx')['ticker'])\n",
    "df_delta_gosha = df_gosha[df_gosha['Тикер'].isin(non_in_list_Tinkoff_gosha)][['Тикер', 'Ссылка на TradingViw']]\n",
    "df_delta_gosha.to_excel(f'{data_path}Есть у Гоши и нет у Тинкофф ({len(df_delta_gosha)} акций).xlsx', index=False)"
   ]
  },
  {
   "cell_type": "code",
   "execution_count": 82,
   "id": "6ecd624e",
   "metadata": {
    "ExecuteTime": {
     "end_time": "2023-09-12T23:34:09.379670Z",
     "start_time": "2023-09-12T23:34:09.361518Z"
    }
   },
   "outputs": [],
   "source": [
    "# Вносим данные таблицы инструментов (акций) Мосбиржы в удалённую базу данных\n",
    "# Формируем запрос-вставку в базу данных\n",
    "col = ', '.join(columns_MOEX)\n",
    "val = [tuple(elem) for elem in rows_MOEX]\n",
    "sql =   f'insert into shares({col}) '\\\n",
    "        f'values(%s, %s, %s, %s, %s, %s, %s, %s, %s, %s, %s, %s, %s, %s, %s, %s, %s, %s, %s, %s, %s)'"
   ]
  },
  {
   "cell_type": "code",
   "execution_count": 81,
   "id": "c51fc7ab",
   "metadata": {
    "ExecuteTime": {
     "end_time": "2023-09-12T23:13:28.293414Z",
     "start_time": "2023-09-12T23:13:27.809537Z"
    }
   },
   "outputs": [
    {
     "name": "stdout",
     "output_type": "stream",
     "text": [
      "140  Все записи внесены!\n"
     ]
    }
   ],
   "source": [
    "# !!!!! Уже заполнено ДАННЫЙ КОД НЕЛЬЗЯ ПОВТОРЯТЬ БЕЗ УДАЛЕНИЯ ПРЕДЫДУЩИХ СТРОК В УДАЛЁННОЙ БАЗЕ ДАННЫХ\n",
    "# # Создаём подключение \n",
    "# myconn = mysql.connector.connect(host=host, user=user, passwd=password, database=db_name)\n",
    "\n",
    "# # Создаём курсора \n",
    "# cur = myconn.cursor()\n",
    "     \n",
    "# try: \n",
    "#     # Выполняем вставку в базу данных \n",
    "#     cur.executemany(sql, val)\n",
    " \n",
    "#     # Фиксация данных в базе\n",
    "#     myconn.commit() \n",
    "#     print(cur.rowcount,\" Все записи внесены!\")\n",
    "    \n",
    "# except:\n",
    "#     # Откатываем изменения в случае ошибки соединения с базой\n",
    "#     myconn.rollback()\n",
    "\n",
    "# # Закрываем соединение с базой\n",
    "# myconn.close()"
   ]
  },
  {
   "cell_type": "markdown",
   "id": "d916e2cd",
   "metadata": {},
   "source": [
    "## 2.2. Формируем таблицу типов акций id_share_type https://tinkoff.github.io/investAPI/instruments/#sharetype"
   ]
  },
  {
   "cell_type": "code",
   "execution_count": 182,
   "id": "7e6691ac",
   "metadata": {
    "ExecuteTime": {
     "end_time": "2023-09-11T13:56:16.492157Z",
     "start_time": "2023-09-11T13:56:16.486149Z"
    }
   },
   "outputs": [],
   "source": [
    "df_share_type = pd.DataFrame({'id_share_type': [0, 1, 2, 3, 4, 5, 6, 7, 8],\n",
    "                              'name': ['SHARE_TYPE_UNSPECIFIED', 'SHARE_TYPE_COMMON', 'SHARE_TYPE_PREFERRED',\n",
    "                                       'SHARE_TYPE_ADR', 'SHARE_TYPE_GDR', 'SHARE_TYPE_MLP',\n",
    "                                       'SHARE_TYPE_NY_REG_SHRS', 'SHARE_TYPE_CLOSED_END_FUND',\n",
    "                                       'SHARE_TYPE_REIT'],\n",
    "                              'description': ['Значение не определено', 'Обыкновенная',\n",
    "                                              'Привилегированная',\n",
    "                                              'Американские депозитарные расписки',\n",
    "                                              'Глобальные депозитарные расписки',\n",
    "                                              'Товарищество с ограниченной ответственностью',\n",
    "                                              'Акции из реестра Нью-Йорка', 'Закрытый инвестиционный фонд',\n",
    "                                              'Траст недвижимости']\n",
    "                             })"
   ]
  },
  {
   "cell_type": "code",
   "execution_count": 183,
   "id": "cbaa97c6",
   "metadata": {
    "ExecuteTime": {
     "end_time": "2023-09-11T13:56:19.762895Z",
     "start_time": "2023-09-11T13:56:19.756101Z"
    }
   },
   "outputs": [
    {
     "data": {
      "text/html": [
       "<div>\n",
       "<style scoped>\n",
       "    .dataframe tbody tr th:only-of-type {\n",
       "        vertical-align: middle;\n",
       "    }\n",
       "\n",
       "    .dataframe tbody tr th {\n",
       "        vertical-align: top;\n",
       "    }\n",
       "\n",
       "    .dataframe thead th {\n",
       "        text-align: right;\n",
       "    }\n",
       "</style>\n",
       "<table border=\"1\" class=\"dataframe\">\n",
       "  <thead>\n",
       "    <tr style=\"text-align: right;\">\n",
       "      <th></th>\n",
       "      <th>id_share_type</th>\n",
       "      <th>name</th>\n",
       "      <th>description</th>\n",
       "    </tr>\n",
       "  </thead>\n",
       "  <tbody>\n",
       "    <tr>\n",
       "      <th>0</th>\n",
       "      <td>0</td>\n",
       "      <td>SHARE_TYPE_UNSPECIFIED</td>\n",
       "      <td>Значение не определено</td>\n",
       "    </tr>\n",
       "    <tr>\n",
       "      <th>1</th>\n",
       "      <td>1</td>\n",
       "      <td>SHARE_TYPE_COMMON</td>\n",
       "      <td>Обыкновенная</td>\n",
       "    </tr>\n",
       "    <tr>\n",
       "      <th>2</th>\n",
       "      <td>2</td>\n",
       "      <td>SHARE_TYPE_PREFERRED</td>\n",
       "      <td>Привилегированная</td>\n",
       "    </tr>\n",
       "    <tr>\n",
       "      <th>3</th>\n",
       "      <td>3</td>\n",
       "      <td>SHARE_TYPE_ADR</td>\n",
       "      <td>Американские депозитарные расписки</td>\n",
       "    </tr>\n",
       "    <tr>\n",
       "      <th>4</th>\n",
       "      <td>4</td>\n",
       "      <td>SHARE_TYPE_GDR</td>\n",
       "      <td>Глобальные депозитарные расписки</td>\n",
       "    </tr>\n",
       "    <tr>\n",
       "      <th>5</th>\n",
       "      <td>5</td>\n",
       "      <td>SHARE_TYPE_MLP</td>\n",
       "      <td>Товарищество с ограниченной ответственностью</td>\n",
       "    </tr>\n",
       "    <tr>\n",
       "      <th>6</th>\n",
       "      <td>6</td>\n",
       "      <td>SHARE_TYPE_NY_REG_SHRS</td>\n",
       "      <td>Акции из реестра Нью-Йорка</td>\n",
       "    </tr>\n",
       "    <tr>\n",
       "      <th>7</th>\n",
       "      <td>7</td>\n",
       "      <td>SHARE_TYPE_CLOSED_END_FUND</td>\n",
       "      <td>Закрытый инвестиционный фонд</td>\n",
       "    </tr>\n",
       "    <tr>\n",
       "      <th>8</th>\n",
       "      <td>8</td>\n",
       "      <td>SHARE_TYPE_REIT</td>\n",
       "      <td>Траст недвижимости</td>\n",
       "    </tr>\n",
       "  </tbody>\n",
       "</table>\n",
       "</div>"
      ],
      "text/plain": [
       "   id_share_type                        name  \\\n",
       "0              0      SHARE_TYPE_UNSPECIFIED   \n",
       "1              1           SHARE_TYPE_COMMON   \n",
       "2              2        SHARE_TYPE_PREFERRED   \n",
       "3              3              SHARE_TYPE_ADR   \n",
       "4              4              SHARE_TYPE_GDR   \n",
       "5              5              SHARE_TYPE_MLP   \n",
       "6              6      SHARE_TYPE_NY_REG_SHRS   \n",
       "7              7  SHARE_TYPE_CLOSED_END_FUND   \n",
       "8              8             SHARE_TYPE_REIT   \n",
       "\n",
       "                                    description  \n",
       "0                        Значение не определено  \n",
       "1                                  Обыкновенная  \n",
       "2                             Привилегированная  \n",
       "3            Американские депозитарные расписки  \n",
       "4              Глобальные депозитарные расписки  \n",
       "5  Товарищество с ограниченной ответственностью  \n",
       "6                    Акции из реестра Нью-Йорка  \n",
       "7                  Закрытый инвестиционный фонд  \n",
       "8                            Траст недвижимости  "
      ]
     },
     "execution_count": 183,
     "metadata": {},
     "output_type": "execute_result"
    }
   ],
   "source": [
    "### !!! Даная таблица перенесена в базу данных без автоматических процедур\n",
    "df_share_type"
   ]
  },
  {
   "cell_type": "markdown",
   "id": "766ff1d9",
   "metadata": {},
   "source": [
    "## 2.3. Формируем таблицу типов статусов акций id_share_type https://tinkoff.github.io/investAPI/instruments/#securitytradingstatus"
   ]
  },
  {
   "cell_type": "code",
   "execution_count": 184,
   "id": "7e8b5a05",
   "metadata": {
    "ExecuteTime": {
     "end_time": "2023-09-11T13:56:22.625173Z",
     "start_time": "2023-09-11T13:56:22.615945Z"
    }
   },
   "outputs": [],
   "source": [
    "df_trading_status = pd.DataFrame({'id_trading_status': [0, 1, 2, 3, 4, 5, 6, 7, 8, 9, 10,\n",
    "                                                    11, 12, 13, 14, 15, 16],\n",
    "                                  'name': ['SECURITY_TRADING_STATUS_UNSPECIFIED',\n",
    "                                           'SECURITY_TRADING_STATUS_NOT_AVAILABLE_FOR_TRADING',\n",
    "                                           'SECURITY_TRADING_STATUS_OPENING_PERIOD',\n",
    "                                           'SECURITY_TRADING_STATUS_CLOSING_PERIOD',\n",
    "                                           'SECURITY_TRADING_STATUS_BREAK_IN_TRADING',\n",
    "                                           'SECURITY_TRADING_STATUS_NORMAL_TRADING',\n",
    "                                           'SECURITY_TRADING_STATUS_CLOSING_AUCTION',\n",
    "                                           'SECURITY_TRADING_STATUS_DARK_POOL_AUCTION',\n",
    "                                           'SECURITY_TRADING_STATUS_DISCRETE_AUCTION',\n",
    "                                           'SECURITY_TRADING_STATUS_OPENING_AUCTION_PERIOD',\n",
    "                                           'SECURITY_TRADING_STATUS_TRADING_AT_CLOSING_AUCTION_PRICE',\n",
    "                                           'SECURITY_TRADING_STATUS_SESSION_ASSIGNED',\n",
    "                                           'SECURITY_TRADING_STATUS_SESSION_CLOSE',\n",
    "                                           'SECURITY_TRADING_STATUS_SESSION_OPEN',\n",
    "                                           'SECURITY_TRADING_STATUS_DEALER_NORMAL_TRADING',\n",
    "                                           'SECURITY_TRADING_STATUS_DEALER_BREAK_IN_TRADING',\n",
    "                                           'SECURITY_TRADING_STATUS_DEALER_NOT_AVAILABLE_FOR_TRADING'],\n",
    "                                  'description': ['Торговый статус не определён', 'Недоступен для торгов',\n",
    "                                                  'Период открытия торгов', 'Период закрытия торгов',\n",
    "                                                  'Перерыв в торговле', 'Нормальная торговля',\n",
    "                                                  'Аукцион закрытия', 'Аукцион крупных пакетов',\n",
    "                                                  'Дискретный аукцион', 'Аукцион открытия',\n",
    "                                                  'Период торгов по цене аукциона закрытия',\n",
    "                                                  'Сессия назначена', 'Сессия закрыта', 'Сессия открыта',\n",
    "                                                  'Доступна торговля в режиме внутренней ликвидности брокера',\n",
    "                                                  'Перерыв торговли в режиме внутренней ликвидности брокера',\n",
    "                                                  'Недоступна торговля в режиме внутренней ликвидности брокера']\n",
    "                                 })"
   ]
  },
  {
   "cell_type": "code",
   "execution_count": 185,
   "id": "1e5b556c",
   "metadata": {
    "ExecuteTime": {
     "end_time": "2023-09-11T13:56:25.359323Z",
     "start_time": "2023-09-11T13:56:25.350291Z"
    }
   },
   "outputs": [
    {
     "data": {
      "text/html": [
       "<div>\n",
       "<style scoped>\n",
       "    .dataframe tbody tr th:only-of-type {\n",
       "        vertical-align: middle;\n",
       "    }\n",
       "\n",
       "    .dataframe tbody tr th {\n",
       "        vertical-align: top;\n",
       "    }\n",
       "\n",
       "    .dataframe thead th {\n",
       "        text-align: right;\n",
       "    }\n",
       "</style>\n",
       "<table border=\"1\" class=\"dataframe\">\n",
       "  <thead>\n",
       "    <tr style=\"text-align: right;\">\n",
       "      <th></th>\n",
       "      <th>id_trading_status</th>\n",
       "      <th>name</th>\n",
       "      <th>description</th>\n",
       "    </tr>\n",
       "  </thead>\n",
       "  <tbody>\n",
       "    <tr>\n",
       "      <th>0</th>\n",
       "      <td>0</td>\n",
       "      <td>SECURITY_TRADING_STATUS_UNSPECIFIED</td>\n",
       "      <td>Торговый статус не определён</td>\n",
       "    </tr>\n",
       "    <tr>\n",
       "      <th>1</th>\n",
       "      <td>1</td>\n",
       "      <td>SECURITY_TRADING_STATUS_NOT_AVAILABLE_FOR_TRADING</td>\n",
       "      <td>Недоступен для торгов</td>\n",
       "    </tr>\n",
       "    <tr>\n",
       "      <th>2</th>\n",
       "      <td>2</td>\n",
       "      <td>SECURITY_TRADING_STATUS_OPENING_PERIOD</td>\n",
       "      <td>Период открытия торгов</td>\n",
       "    </tr>\n",
       "    <tr>\n",
       "      <th>3</th>\n",
       "      <td>3</td>\n",
       "      <td>SECURITY_TRADING_STATUS_CLOSING_PERIOD</td>\n",
       "      <td>Период закрытия торгов</td>\n",
       "    </tr>\n",
       "    <tr>\n",
       "      <th>4</th>\n",
       "      <td>4</td>\n",
       "      <td>SECURITY_TRADING_STATUS_BREAK_IN_TRADING</td>\n",
       "      <td>Перерыв в торговле</td>\n",
       "    </tr>\n",
       "    <tr>\n",
       "      <th>5</th>\n",
       "      <td>5</td>\n",
       "      <td>SECURITY_TRADING_STATUS_NORMAL_TRADING</td>\n",
       "      <td>Нормальная торговля</td>\n",
       "    </tr>\n",
       "    <tr>\n",
       "      <th>6</th>\n",
       "      <td>6</td>\n",
       "      <td>SECURITY_TRADING_STATUS_CLOSING_AUCTION</td>\n",
       "      <td>Аукцион закрытия</td>\n",
       "    </tr>\n",
       "    <tr>\n",
       "      <th>7</th>\n",
       "      <td>7</td>\n",
       "      <td>SECURITY_TRADING_STATUS_DARK_POOL_AUCTION</td>\n",
       "      <td>Аукцион крупных пакетов</td>\n",
       "    </tr>\n",
       "    <tr>\n",
       "      <th>8</th>\n",
       "      <td>8</td>\n",
       "      <td>SECURITY_TRADING_STATUS_DISCRETE_AUCTION</td>\n",
       "      <td>Дискретный аукцион</td>\n",
       "    </tr>\n",
       "    <tr>\n",
       "      <th>9</th>\n",
       "      <td>9</td>\n",
       "      <td>SECURITY_TRADING_STATUS_OPENING_AUCTION_PERIOD</td>\n",
       "      <td>Аукцион открытия</td>\n",
       "    </tr>\n",
       "    <tr>\n",
       "      <th>10</th>\n",
       "      <td>10</td>\n",
       "      <td>SECURITY_TRADING_STATUS_TRADING_AT_CLOSING_AUCTION_PRICE</td>\n",
       "      <td>Период торгов по цене аукциона закрытия</td>\n",
       "    </tr>\n",
       "    <tr>\n",
       "      <th>11</th>\n",
       "      <td>11</td>\n",
       "      <td>SECURITY_TRADING_STATUS_SESSION_ASSIGNED</td>\n",
       "      <td>Сессия назначена</td>\n",
       "    </tr>\n",
       "    <tr>\n",
       "      <th>12</th>\n",
       "      <td>12</td>\n",
       "      <td>SECURITY_TRADING_STATUS_SESSION_CLOSE</td>\n",
       "      <td>Сессия закрыта</td>\n",
       "    </tr>\n",
       "    <tr>\n",
       "      <th>13</th>\n",
       "      <td>13</td>\n",
       "      <td>SECURITY_TRADING_STATUS_SESSION_OPEN</td>\n",
       "      <td>Сессия открыта</td>\n",
       "    </tr>\n",
       "    <tr>\n",
       "      <th>14</th>\n",
       "      <td>14</td>\n",
       "      <td>SECURITY_TRADING_STATUS_DEALER_NORMAL_TRADING</td>\n",
       "      <td>Доступна торговля в режиме внутренней ликвидности брокера</td>\n",
       "    </tr>\n",
       "    <tr>\n",
       "      <th>15</th>\n",
       "      <td>15</td>\n",
       "      <td>SECURITY_TRADING_STATUS_DEALER_BREAK_IN_TRADING</td>\n",
       "      <td>Перерыв торговли в режиме внутренней ликвидности брокера</td>\n",
       "    </tr>\n",
       "    <tr>\n",
       "      <th>16</th>\n",
       "      <td>16</td>\n",
       "      <td>SECURITY_TRADING_STATUS_DEALER_NOT_AVAILABLE_FOR_TRADING</td>\n",
       "      <td>Недоступна торговля в режиме внутренней ликвидности брокера</td>\n",
       "    </tr>\n",
       "  </tbody>\n",
       "</table>\n",
       "</div>"
      ],
      "text/plain": [
       "    id_trading_status  \\\n",
       "0                   0   \n",
       "1                   1   \n",
       "2                   2   \n",
       "3                   3   \n",
       "4                   4   \n",
       "5                   5   \n",
       "6                   6   \n",
       "7                   7   \n",
       "8                   8   \n",
       "9                   9   \n",
       "10                 10   \n",
       "11                 11   \n",
       "12                 12   \n",
       "13                 13   \n",
       "14                 14   \n",
       "15                 15   \n",
       "16                 16   \n",
       "\n",
       "                                                        name  \\\n",
       "0                        SECURITY_TRADING_STATUS_UNSPECIFIED   \n",
       "1          SECURITY_TRADING_STATUS_NOT_AVAILABLE_FOR_TRADING   \n",
       "2                     SECURITY_TRADING_STATUS_OPENING_PERIOD   \n",
       "3                     SECURITY_TRADING_STATUS_CLOSING_PERIOD   \n",
       "4                   SECURITY_TRADING_STATUS_BREAK_IN_TRADING   \n",
       "5                     SECURITY_TRADING_STATUS_NORMAL_TRADING   \n",
       "6                    SECURITY_TRADING_STATUS_CLOSING_AUCTION   \n",
       "7                  SECURITY_TRADING_STATUS_DARK_POOL_AUCTION   \n",
       "8                   SECURITY_TRADING_STATUS_DISCRETE_AUCTION   \n",
       "9             SECURITY_TRADING_STATUS_OPENING_AUCTION_PERIOD   \n",
       "10  SECURITY_TRADING_STATUS_TRADING_AT_CLOSING_AUCTION_PRICE   \n",
       "11                  SECURITY_TRADING_STATUS_SESSION_ASSIGNED   \n",
       "12                     SECURITY_TRADING_STATUS_SESSION_CLOSE   \n",
       "13                      SECURITY_TRADING_STATUS_SESSION_OPEN   \n",
       "14             SECURITY_TRADING_STATUS_DEALER_NORMAL_TRADING   \n",
       "15           SECURITY_TRADING_STATUS_DEALER_BREAK_IN_TRADING   \n",
       "16  SECURITY_TRADING_STATUS_DEALER_NOT_AVAILABLE_FOR_TRADING   \n",
       "\n",
       "                                                    description  \n",
       "0                                  Торговый статус не определён  \n",
       "1                                         Недоступен для торгов  \n",
       "2                                        Период открытия торгов  \n",
       "3                                        Период закрытия торгов  \n",
       "4                                            Перерыв в торговле  \n",
       "5                                           Нормальная торговля  \n",
       "6                                              Аукцион закрытия  \n",
       "7                                       Аукцион крупных пакетов  \n",
       "8                                            Дискретный аукцион  \n",
       "9                                              Аукцион открытия  \n",
       "10                      Период торгов по цене аукциона закрытия  \n",
       "11                                             Сессия назначена  \n",
       "12                                               Сессия закрыта  \n",
       "13                                               Сессия открыта  \n",
       "14    Доступна торговля в режиме внутренней ликвидности брокера  \n",
       "15     Перерыв торговли в режиме внутренней ликвидности брокера  \n",
       "16  Недоступна торговля в режиме внутренней ликвидности брокера  "
      ]
     },
     "execution_count": 185,
     "metadata": {},
     "output_type": "execute_result"
    }
   ],
   "source": [
    "### !!! Даная таблица перенесена в базу данных без автоматических процедур\n",
    "df_trading_status"
   ]
  },
  {
   "cell_type": "code",
   "execution_count": 84,
   "id": "64802b53",
   "metadata": {
    "ExecuteTime": {
     "end_time": "2023-09-12T23:37:01.238929Z",
     "start_time": "2023-09-12T23:37:01.215498Z"
    }
   },
   "outputs": [],
   "source": [
    "# Оптимизируем память\n",
    "dfs = []\n",
    "local_variable_scope =locals().keys()\n",
    "for elem in local_variable_scope:\n",
    "    if 'df' in elem:\n",
    "        dfs.append(elem)\n",
    "# Удаляем не используемые датафреймы\n",
    "for elem in dfs:\n",
    "    del locals()[elem]"
   ]
  },
  {
   "cell_type": "markdown",
   "id": "24b8d538",
   "metadata": {},
   "source": [
    "# 3. Формируем базу данных свечей"
   ]
  },
  {
   "cell_type": "markdown",
   "id": "6007bfbf",
   "metadata": {},
   "source": [
    "## 3.1. Формируем данные по историческим 5-ти минутным свечам"
   ]
  },
  {
   "cell_type": "markdown",
   "id": "df997401",
   "metadata": {},
   "source": [
    "## 3.1.1. Выгрузки для Гоши"
   ]
  },
  {
   "cell_type": "code",
   "execution_count": 234,
   "id": "31439776",
   "metadata": {
    "ExecuteTime": {
     "end_time": "2023-09-11T20:20:23.071451Z",
     "start_time": "2023-09-11T20:20:22.989414Z"
    }
   },
   "outputs": [],
   "source": [
    "# Формирование исторических свечей для Гоши\n",
    "\n",
    "# Перечень тикеров, которые есть в Тиньков и есть в списке Гоши\n",
    "ticker_list_Tinkoff_gosha = list(set(df_gosha['Тикер']) - set(non_in_list_Tinkoff_gosha))\n",
    "df_tinkoff = pd.read_excel(f'{data_path}Московская биржа на Тинькофф ({COUNT_SHARE_MOEX} акций).xlsx')\n",
    "df_figi_gosha = df_tinkoff[df_tinkoff.ticker.isin(ticker_list_Tinkoff_gosha)][['ticker', 'figi']].to_dict('list')"
   ]
  },
  {
   "cell_type": "code",
   "execution_count": null,
   "id": "8dccdc68",
   "metadata": {},
   "outputs": [],
   "source": []
  },
  {
   "cell_type": "code",
   "execution_count": null,
   "id": "8539f858",
   "metadata": {},
   "outputs": [],
   "source": []
  },
  {
   "cell_type": "code",
   "execution_count": null,
   "id": "11e06ae3",
   "metadata": {},
   "outputs": [],
   "source": []
  },
  {
   "cell_type": "markdown",
   "id": "a0e2c430",
   "metadata": {},
   "source": [
    "## 3.1.2. Заполняем базу  MySQL на удалённом сервере"
   ]
  },
  {
   "cell_type": "code",
   "execution_count": null,
   "id": "51f08723",
   "metadata": {},
   "outputs": [],
   "source": []
  },
  {
   "cell_type": "code",
   "execution_count": null,
   "id": "3afe668e",
   "metadata": {},
   "outputs": [],
   "source": []
  },
  {
   "cell_type": "code",
   "execution_count": null,
   "id": "d4c03738",
   "metadata": {},
   "outputs": [],
   "source": []
  },
  {
   "cell_type": "code",
   "execution_count": null,
   "id": "1dcc7011",
   "metadata": {},
   "outputs": [],
   "source": []
  },
  {
   "cell_type": "code",
   "execution_count": null,
   "id": "da6c9aee",
   "metadata": {},
   "outputs": [],
   "source": []
  },
  {
   "cell_type": "code",
   "execution_count": null,
   "id": "6e5e171d",
   "metadata": {},
   "outputs": [],
   "source": []
  },
  {
   "cell_type": "code",
   "execution_count": null,
   "id": "b5a25ed3",
   "metadata": {},
   "outputs": [],
   "source": []
  },
  {
   "cell_type": "markdown",
   "id": "59f72821",
   "metadata": {},
   "source": []
  },
  {
   "cell_type": "markdown",
   "id": "0b9029c0",
   "metadata": {},
   "source": [
    "# 4. 16/09/23 Запрашиваем торговый календарь"
   ]
  },
  {
   "cell_type": "code",
   "execution_count": 248,
   "id": "f3284c17",
   "metadata": {
    "ExecuteTime": {
     "end_time": "2023-09-16T22:59:16.250266Z",
     "start_time": "2023-09-16T22:59:14.428420Z"
    }
   },
   "outputs": [],
   "source": [
    "# Запросим актуальный перечень акций, торгуемых в Тинькофф на Московской бирже\n",
    "with Client(TOKEN) as client:\n",
    "    shares = client.instruments.shares().instruments"
   ]
  },
  {
   "cell_type": "code",
   "execution_count": 251,
   "id": "5d1a2e63",
   "metadata": {
    "ExecuteTime": {
     "end_time": "2023-09-16T23:01:12.184214Z",
     "start_time": "2023-09-16T23:01:12.178160Z"
    }
   },
   "outputs": [],
   "source": [
    "# Определим перечень типов расписаний торгуемых акций\n",
    "exchanges = set()\n",
    "for elem in shares:\n",
    "    if int(elem.real_exchange) == 1:\n",
    "        exchanges.add(elem.exchange)"
   ]
  },
  {
   "cell_type": "code",
   "execution_count": 252,
   "id": "6d97ad7a",
   "metadata": {
    "ExecuteTime": {
     "end_time": "2023-09-16T23:01:28.909064Z",
     "start_time": "2023-09-16T23:01:28.037236Z"
    }
   },
   "outputs": [
    {
     "name": "stdout",
     "output_type": "stream",
     "text": [
      "MOEX_PLUS:\n",
      "  - время начала торгов 2023-09-18 07:00:00+00:00\n",
      "  - время окончания торгов 2023-09-18 20:50:00+00:00\n",
      "MOEX_EVENING_WEEKEND:\n",
      "  - время начала торгов 2023-09-18 07:00:00+00:00\n",
      "  - время окончания торгов 2023-09-18 20:49:59+00:00\n",
      "MOEX_WEEKEND:\n",
      "  - время начала торгов 2023-09-18 07:00:00+00:00\n",
      "  - время окончания торгов 2023-09-18 15:39:59+00:00\n",
      "MOEX:\n",
      "  - время начала торгов 2023-09-18 07:00:00+00:00\n",
      "  - время окончания торгов 2023-09-18 15:39:59+00:00\n"
     ]
    }
   ],
   "source": [
    "# Сформируем расписания торгов для акций с разными расписаниями\n",
    "for exchange in list(exchanges):\n",
    "    with Client(TOKEN) as client:\n",
    "        response = client.instruments.trading_schedules(exchange=exchange,\n",
    "                                                        from_=now()+timedelta(days=2),\n",
    "                                                        to=now()+timedelta(days=2))\n",
    "    print(f'{exchange}:\\n'\n",
    "          f'  - время начала торгов {response.exchanges[0].days[0].start_time}\\n'\n",
    "          f'  - время окончания торгов {response.exchanges[0].days[0].end_time}')"
   ]
  },
  {
   "cell_type": "code",
   "execution_count": 260,
   "id": "17623cb4",
   "metadata": {
    "ExecuteTime": {
     "end_time": "2023-09-16T23:10:22.901918Z",
     "start_time": "2023-09-16T23:10:22.652130Z"
    }
   },
   "outputs": [],
   "source": [
    "with Client(TOKEN) as client:\n",
    "    response = client.instruments.trading_schedules(exchange=exchange,\n",
    "                                                    from_=now()+timedelta(days=2),\n",
    "                                                    to=now()+timedelta(days=2))"
   ]
  },
  {
   "cell_type": "code",
   "execution_count": 266,
   "id": "4f660e21",
   "metadata": {
    "ExecuteTime": {
     "end_time": "2023-09-16T23:11:26.358534Z",
     "start_time": "2023-09-16T23:11:26.351977Z"
    }
   },
   "outputs": [
    {
     "data": {
      "text/plain": [
       "{'date': datetime.datetime(2023, 9, 18, 0, 0, tzinfo=datetime.timezone.utc),\n",
       " 'is_trading_day': True,\n",
       " 'start_time': datetime.datetime(2023, 9, 18, 7, 0, tzinfo=datetime.timezone.utc),\n",
       " 'end_time': datetime.datetime(2023, 9, 18, 15, 39, 59, tzinfo=datetime.timezone.utc),\n",
       " 'opening_auction_start_time': datetime.datetime(2023, 9, 18, 6, 50, tzinfo=datetime.timezone.utc),\n",
       " 'closing_auction_end_time': datetime.datetime(2023, 9, 18, 15, 50, tzinfo=datetime.timezone.utc),\n",
       " 'evening_opening_auction_start_time': datetime.datetime(1970, 1, 1, 0, 0, tzinfo=datetime.timezone.utc),\n",
       " 'evening_start_time': datetime.datetime(1970, 1, 1, 0, 0, tzinfo=datetime.timezone.utc),\n",
       " 'evening_end_time': datetime.datetime(1970, 1, 1, 0, 0, tzinfo=datetime.timezone.utc),\n",
       " 'clearing_start_time': datetime.datetime(1970, 1, 1, 0, 0, tzinfo=datetime.timezone.utc),\n",
       " 'clearing_end_time': datetime.datetime(1970, 1, 1, 0, 0, tzinfo=datetime.timezone.utc),\n",
       " 'premarket_start_time': datetime.datetime(1970, 1, 1, 0, 0, tzinfo=datetime.timezone.utc),\n",
       " 'premarket_end_time': datetime.datetime(1970, 1, 1, 0, 0, tzinfo=datetime.timezone.utc),\n",
       " 'closing_auction_start_time': datetime.datetime(2023, 9, 18, 15, 40, 1, tzinfo=datetime.timezone.utc),\n",
       " 'opening_auction_end_time': datetime.datetime(2023, 9, 18, 6, 59, 59, tzinfo=datetime.timezone.utc)}"
      ]
     },
     "execution_count": 266,
     "metadata": {},
     "output_type": "execute_result"
    }
   ],
   "source": [
    "response.exchanges[0].days[0].__dict__"
   ]
  },
  {
   "cell_type": "code",
   "execution_count": null,
   "id": "b4117de0",
   "metadata": {},
   "outputs": [],
   "source": []
  },
  {
   "cell_type": "code",
   "execution_count": null,
   "id": "280c3adb",
   "metadata": {},
   "outputs": [],
   "source": []
  },
  {
   "cell_type": "code",
   "execution_count": null,
   "id": "e5cf3849",
   "metadata": {},
   "outputs": [],
   "source": []
  },
  {
   "cell_type": "code",
   "execution_count": null,
   "id": "fd7ffd28",
   "metadata": {},
   "outputs": [],
   "source": []
  },
  {
   "cell_type": "code",
   "execution_count": null,
   "id": "d33c4672",
   "metadata": {},
   "outputs": [],
   "source": []
  },
  {
   "cell_type": "code",
   "execution_count": null,
   "id": "ac14b4a8",
   "metadata": {},
   "outputs": [],
   "source": []
  },
  {
   "cell_type": "code",
   "execution_count": 210,
   "id": "5de73c36",
   "metadata": {
    "ExecuteTime": {
     "end_time": "2023-09-16T21:22:20.675502Z",
     "start_time": "2023-09-16T21:22:20.669248Z"
    }
   },
   "outputs": [
    {
     "data": {
      "text/plain": [
       "{'date': datetime.datetime(2023, 9, 18, 0, 0, tzinfo=datetime.timezone.utc),\n",
       " 'is_trading_day': True,\n",
       " 'start_time': datetime.datetime(2023, 9, 18, 7, 0, tzinfo=datetime.timezone.utc),\n",
       " 'end_time': datetime.datetime(2023, 9, 18, 15, 39, 59, tzinfo=datetime.timezone.utc),\n",
       " 'opening_auction_start_time': datetime.datetime(2023, 9, 18, 6, 50, tzinfo=datetime.timezone.utc),\n",
       " 'closing_auction_end_time': datetime.datetime(2023, 9, 18, 15, 50, tzinfo=datetime.timezone.utc),\n",
       " 'evening_opening_auction_start_time': datetime.datetime(1970, 1, 1, 0, 0, tzinfo=datetime.timezone.utc),\n",
       " 'evening_start_time': datetime.datetime(1970, 1, 1, 0, 0, tzinfo=datetime.timezone.utc),\n",
       " 'evening_end_time': datetime.datetime(1970, 1, 1, 0, 0, tzinfo=datetime.timezone.utc),\n",
       " 'clearing_start_time': datetime.datetime(1970, 1, 1, 0, 0, tzinfo=datetime.timezone.utc),\n",
       " 'clearing_end_time': datetime.datetime(1970, 1, 1, 0, 0, tzinfo=datetime.timezone.utc),\n",
       " 'premarket_start_time': datetime.datetime(1970, 1, 1, 0, 0, tzinfo=datetime.timezone.utc),\n",
       " 'premarket_end_time': datetime.datetime(1970, 1, 1, 0, 0, tzinfo=datetime.timezone.utc),\n",
       " 'closing_auction_start_time': datetime.datetime(2023, 9, 18, 15, 40, 1, tzinfo=datetime.timezone.utc),\n",
       " 'opening_auction_end_time': datetime.datetime(2023, 9, 18, 6, 59, 59, tzinfo=datetime.timezone.utc)}"
      ]
     },
     "execution_count": 210,
     "metadata": {},
     "output_type": "execute_result"
    }
   ],
   "source": [
    "response.exchanges[0].days[0].__dict__"
   ]
  },
  {
   "cell_type": "code",
   "execution_count": 130,
   "id": "5345fc45",
   "metadata": {
    "ExecuteTime": {
     "end_time": "2023-09-16T17:15:16.651233Z",
     "start_time": "2023-09-16T17:15:16.645369Z"
    }
   },
   "outputs": [
    {
     "data": {
      "text/plain": [
       "(True,\n",
       " datetime.datetime(2023, 9, 18, 7, 0, tzinfo=datetime.timezone.utc),\n",
       " datetime.datetime(2023, 9, 18, 15, 39, 59, tzinfo=datetime.timezone.utc))"
      ]
     },
     "execution_count": 130,
     "metadata": {},
     "output_type": "execute_result"
    }
   ],
   "source": [
    "response.exchanges[0].days[0].is_trading_day,\\\n",
    "response.exchanges[0].days[0].start_time,\\\n",
    "response.exchanges[0].days[0].end_time, "
   ]
  },
  {
   "cell_type": "code",
   "execution_count": 133,
   "id": "aee08623",
   "metadata": {
    "ExecuteTime": {
     "end_time": "2023-09-16T17:17:00.193591Z",
     "start_time": "2023-09-16T17:17:00.188826Z"
    }
   },
   "outputs": [
    {
     "name": "stdout",
     "output_type": "stream",
     "text": [
      "2023-09-18 07:00:00+00:00\n",
      "2023-09-18 15:39:59+00:00\n"
     ]
    }
   ],
   "source": [
    "if response.exchanges[0].days[0].is_trading_day:\n",
    "    print(response.exchanges[0].days[0].start_time)\n",
    "    print(response.exchanges[0].days[0].end_time)"
   ]
  },
  {
   "cell_type": "code",
   "execution_count": 195,
   "id": "a00f67e1",
   "metadata": {
    "ExecuteTime": {
     "end_time": "2023-09-16T21:16:33.337457Z",
     "start_time": "2023-09-16T21:16:32.145234Z"
    }
   },
   "outputs": [],
   "source": [
    "with Client(TOKEN) as client:\n",
    "        response = client.instruments.shares().instruments # [elem for elem in client.instruments.shares().instruments if elem.class_code=='MOEX']"
   ]
  },
  {
   "cell_type": "code",
   "execution_count": 198,
   "id": "ed041ff8",
   "metadata": {
    "ExecuteTime": {
     "end_time": "2023-09-16T21:17:02.008428Z",
     "start_time": "2023-09-16T21:17:02.003781Z"
    }
   },
   "outputs": [],
   "source": [
    "exchanges = set()\n",
    "for elem in response:\n",
    "    if int(elem.real_exchange) == 1:\n",
    "        exchanges.add(elem.exchange)"
   ]
  },
  {
   "cell_type": "code",
   "execution_count": 200,
   "id": "60abe740",
   "metadata": {
    "ExecuteTime": {
     "end_time": "2023-09-16T21:17:27.554399Z",
     "start_time": "2023-09-16T21:17:27.549434Z"
    }
   },
   "outputs": [
    {
     "data": {
      "text/plain": [
       "({'MOEX', 'MOEX_EVENING_WEEKEND', 'MOEX_PLUS', 'MOEX_WEEKEND'}, set)"
      ]
     },
     "execution_count": 200,
     "metadata": {},
     "output_type": "execute_result"
    }
   ],
   "source": [
    "exchanges, type(exchanges)"
   ]
  },
  {
   "cell_type": "code",
   "execution_count": 192,
   "id": "782d60f5",
   "metadata": {
    "ExecuteTime": {
     "end_time": "2023-09-16T21:11:51.944341Z",
     "start_time": "2023-09-16T21:11:51.937742Z"
    }
   },
   "outputs": [
    {
     "data": {
      "text/plain": [
       "{'MOEX', 'MOEX_EVENING_WEEKEND', 'MOEX_PLUS', 'MOEX_WEEKEND'}"
      ]
     },
     "execution_count": 192,
     "metadata": {},
     "output_type": "execute_result"
    }
   ],
   "source": [
    "set([elem.exchange for elem in shares])"
   ]
  },
  {
   "cell_type": "code",
   "execution_count": 180,
   "id": "8606aab6",
   "metadata": {
    "ExecuteTime": {
     "end_time": "2023-09-16T20:47:03.932753Z",
     "start_time": "2023-09-16T20:47:03.927666Z"
    }
   },
   "outputs": [
    {
     "data": {
      "text/plain": [
       "{'figi': 'BBG000BN56Q9',\n",
       " 'ticker': 'DSKY',\n",
       " 'class_code': 'TQBR',\n",
       " 'isin': 'RU000A0JSQ90',\n",
       " 'lot': 10,\n",
       " 'currency': 'rub',\n",
       " 'klong': Quotation(units=2, nano=0),\n",
       " 'kshort': Quotation(units=2, nano=0),\n",
       " 'dlong': Quotation(units=1, nano=0),\n",
       " 'dshort': Quotation(units=1, nano=0),\n",
       " 'dlong_min': Quotation(units=1, nano=0),\n",
       " 'dshort_min': Quotation(units=1, nano=0),\n",
       " 'short_enabled_flag': False,\n",
       " 'name': 'Детский Мир',\n",
       " 'exchange': 'MOEX',\n",
       " 'ipo_date': datetime.datetime(2014, 2, 11, 0, 0, tzinfo=datetime.timezone.utc),\n",
       " 'issue_size': 739000000,\n",
       " 'country_of_risk': 'RU',\n",
       " 'country_of_risk_name': 'Российская Федерация',\n",
       " 'sector': 'consumer',\n",
       " 'issue_size_plan': 739000000,\n",
       " 'nominal': MoneyValue(currency='rub', units=0, nano=400000),\n",
       " 'trading_status': <SecurityTradingStatus.SECURITY_TRADING_STATUS_NOT_AVAILABLE_FOR_TRADING: 1>,\n",
       " 'otc_flag': False,\n",
       " 'buy_available_flag': True,\n",
       " 'sell_available_flag': True,\n",
       " 'div_yield_flag': True,\n",
       " 'share_type': <ShareType.SHARE_TYPE_COMMON: 1>,\n",
       " 'min_price_increment': Quotation(units=0, nano=20000000),\n",
       " 'api_trade_available_flag': True,\n",
       " 'uid': '6e061639-6198-4448-9568-1eadb1b0e127',\n",
       " 'real_exchange': <RealExchange.REAL_EXCHANGE_MOEX: 1>,\n",
       " 'position_uid': 'e07311a4-fac4-472b-b1d7-c3a7b3e56a6d',\n",
       " 'for_iis_flag': True,\n",
       " 'for_qual_investor_flag': False,\n",
       " 'weekend_flag': False,\n",
       " 'blocked_tca_flag': False,\n",
       " 'liquidity_flag': True,\n",
       " 'first_1min_candle_date': datetime.datetime(2018, 3, 7, 18, 43, tzinfo=datetime.timezone.utc),\n",
       " 'first_1day_candle_date': datetime.datetime(2017, 2, 10, 7, 0, tzinfo=datetime.timezone.utc)}"
      ]
     },
     "execution_count": 180,
     "metadata": {},
     "output_type": "execute_result"
    }
   ],
   "source": [
    "shares[0].__dict__"
   ]
  },
  {
   "cell_type": "code",
   "execution_count": null,
   "id": "6abc11e3",
   "metadata": {},
   "outputs": [],
   "source": []
  },
  {
   "cell_type": "code",
   "execution_count": null,
   "id": "27f7ef82",
   "metadata": {},
   "outputs": [],
   "source": []
  },
  {
   "cell_type": "code",
   "execution_count": null,
   "id": "449a30b7",
   "metadata": {},
   "outputs": [],
   "source": []
  },
  {
   "cell_type": "code",
   "execution_count": null,
   "id": "5c409ca4",
   "metadata": {},
   "outputs": [],
   "source": []
  },
  {
   "cell_type": "code",
   "execution_count": null,
   "id": "e882fdd0",
   "metadata": {},
   "outputs": [],
   "source": []
  },
  {
   "cell_type": "code",
   "execution_count": null,
   "id": "d462ea7a",
   "metadata": {},
   "outputs": [],
   "source": []
  },
  {
   "cell_type": "code",
   "execution_count": 19,
   "id": "9b18ee75",
   "metadata": {
    "ExecuteTime": {
     "end_time": "2023-09-14T20:52:27.608925Z",
     "start_time": "2023-09-14T20:52:27.372925Z"
    }
   },
   "outputs": [
    {
     "name": "stdout",
     "output_type": "stream",
     "text": [
      "KZOSP записей [(10749,)]\n"
     ]
    }
   ],
   "source": [
    " # Формируем запрос-вставку в базу данных\n",
    "\n",
    "sql = f\"select count(*) from LNZL\"#where open='9999.999999'\"\n",
    "# Создаём подключение \n",
    "myconn = mysql.connector.connect(host=host, user=user, passwd=password, database=db_name)\n",
    "# Создаём курсора \n",
    "cur = myconn.cursor() \n",
    "# Выполняем запрос к базе данных \n",
    "cur.execute(sql)\n",
    "# Выгружаем результаты запроса \n",
    "result = cur.fetchall() \n",
    "if result:\n",
    "    print(f'{ticker} записей {result}')"
   ]
  },
  {
   "cell_type": "code",
   "execution_count": 108,
   "id": "d0835699",
   "metadata": {
    "ExecuteTime": {
     "end_time": "2023-09-11T10:15:06.253765Z",
     "start_time": "2023-09-11T10:15:06.247567Z"
    }
   },
   "outputs": [],
   "source": [
    "from tinkoff.invest import (CandleInstrument,\n",
    "                            Client,\n",
    "                            InfoInstrument,\n",
    "                            SubscriptionInterval,)\n",
    "from tinkoff.invest.services import MarketDataStreamManager"
   ]
  },
  {
   "cell_type": "code",
   "execution_count": 124,
   "id": "6281cbd9",
   "metadata": {
    "ExecuteTime": {
     "end_time": "2023-09-11T10:25:44.773638Z",
     "start_time": "2023-09-11T10:25:44.767617Z"
    }
   },
   "outputs": [],
   "source": [
    "# Сформируем перечень\n",
    "def get_strem_candles():\n",
    "    with Client(TOKEN) as client:\n",
    "        market_data_stream: MarketDataStreamManager = client.create_market_data_stream()\n",
    "        market_data_stream.candles.unsubscribe(\n",
    "            [\n",
    "                CandleInstrument(\n",
    "                    figi=\"BBG004730N88\",\n",
    "                    interval=SubscriptionInterval.SUBSCRIPTION_INTERVAL_FIVE_MINUTES,\n",
    "                )\n",
    "            ]\n",
    "        )\n",
    "        for marketdata in market_data_stream:\n",
    "            print(marketdata)\n",
    "            market_data_stream.info.subscribe([InfoInstrument(figi=\"BBG004730N88\")])\n",
    "            if marketdata..subscribe_info_response:\n",
    "                market_data_stream.stop()"
   ]
  },
  {
   "cell_type": "code",
   "execution_count": 125,
   "id": "62793db1",
   "metadata": {
    "ExecuteTime": {
     "end_time": "2023-09-11T10:25:46.701349Z",
     "start_time": "2023-09-11T10:25:46.485073Z"
    },
    "scrolled": true
   },
   "outputs": [
    {
     "name": "stderr",
     "output_type": "stream",
     "text": [
      "/Users/work/opt/anaconda3/lib/python3.9/site-packages/google/protobuf/symbol_database.py:78: UserWarning: SymbolDatabase.GetPrototype() is deprecated. Please use message_factory.GetMessageClass() instead. SymbolDatabase.GetPrototype() will be removed soon.\n",
      "  warnings.warn('SymbolDatabase.GetPrototype() is deprecated. Please '\n"
     ]
    },
    {
     "ename": "ValueError",
     "evalue": "9 is not a valid SubscriptionStatus",
     "output_type": "error",
     "traceback": [
      "\u001b[0;31m---------------------------------------------------------------------------\u001b[0m",
      "\u001b[0;31mValueError\u001b[0m                                Traceback (most recent call last)",
      "\u001b[0;32m/var/folders/5h/1vkpjwr90l19cmzfgsfrcpvm0000gn/T/ipykernel_41333/1337829206.py\u001b[0m in \u001b[0;36m<module>\u001b[0;34m\u001b[0m\n\u001b[0;32m----> 1\u001b[0;31m \u001b[0mget_strem_candles\u001b[0m\u001b[0;34m(\u001b[0m\u001b[0;34m)\u001b[0m\u001b[0;34m\u001b[0m\u001b[0;34m\u001b[0m\u001b[0m\n\u001b[0m",
      "\u001b[0;32m/var/folders/5h/1vkpjwr90l19cmzfgsfrcpvm0000gn/T/ipykernel_41333/552490518.py\u001b[0m in \u001b[0;36mget_strem_candles\u001b[0;34m()\u001b[0m\n\u001b[1;32m     11\u001b[0m             ]\n\u001b[1;32m     12\u001b[0m         )\n\u001b[0;32m---> 13\u001b[0;31m         \u001b[0;32mfor\u001b[0m \u001b[0mmarketdata\u001b[0m \u001b[0;32min\u001b[0m \u001b[0mmarket_data_stream\u001b[0m\u001b[0;34m:\u001b[0m\u001b[0;34m\u001b[0m\u001b[0;34m\u001b[0m\u001b[0m\n\u001b[0m\u001b[1;32m     14\u001b[0m             \u001b[0mprint\u001b[0m\u001b[0;34m(\u001b[0m\u001b[0mmarketdata\u001b[0m\u001b[0;34m)\u001b[0m\u001b[0;34m\u001b[0m\u001b[0;34m\u001b[0m\u001b[0m\n\u001b[1;32m     15\u001b[0m             \u001b[0mmarket_data_stream\u001b[0m\u001b[0;34m.\u001b[0m\u001b[0minfo\u001b[0m\u001b[0;34m.\u001b[0m\u001b[0msubscribe\u001b[0m\u001b[0;34m(\u001b[0m\u001b[0;34m[\u001b[0m\u001b[0mInfoInstrument\u001b[0m\u001b[0;34m(\u001b[0m\u001b[0mfigi\u001b[0m\u001b[0;34m=\u001b[0m\u001b[0;34m\"BBG004730N88\"\u001b[0m\u001b[0;34m)\u001b[0m\u001b[0;34m]\u001b[0m\u001b[0;34m)\u001b[0m\u001b[0;34m\u001b[0m\u001b[0;34m\u001b[0m\u001b[0m\n",
      "\u001b[0;32m~/opt/anaconda3/lib/python3.9/site-packages/tinkoff/invest/market_data_stream/market_data_stream_manager.py\u001b[0m in \u001b[0;36m__next__\u001b[0;34m(self)\u001b[0m\n\u001b[1;32m     76\u001b[0m \u001b[0;34m\u001b[0m\u001b[0m\n\u001b[1;32m     77\u001b[0m     \u001b[0;32mdef\u001b[0m \u001b[0m__next__\u001b[0m\u001b[0;34m(\u001b[0m\u001b[0mself\u001b[0m\u001b[0;34m)\u001b[0m \u001b[0;34m->\u001b[0m \u001b[0mMarketDataResponse\u001b[0m\u001b[0;34m:\u001b[0m\u001b[0;34m\u001b[0m\u001b[0;34m\u001b[0m\u001b[0m\n\u001b[0;32m---> 78\u001b[0;31m         \u001b[0;32mreturn\u001b[0m \u001b[0mnext\u001b[0m\u001b[0;34m(\u001b[0m\u001b[0mself\u001b[0m\u001b[0;34m.\u001b[0m\u001b[0m_market_data_stream\u001b[0m\u001b[0;34m)\u001b[0m\u001b[0;34m\u001b[0m\u001b[0;34m\u001b[0m\u001b[0m\n\u001b[0m",
      "\u001b[0;32m~/opt/anaconda3/lib/python3.9/site-packages/tinkoff/invest/_errors.py\u001b[0m in \u001b[0;36mwrapper\u001b[0;34m(*args, **kwargs)\u001b[0m\n\u001b[1;32m     52\u001b[0m         \u001b[0;32mdef\u001b[0m \u001b[0mwrapper\u001b[0m\u001b[0;34m(\u001b[0m\u001b[0;34m*\u001b[0m\u001b[0margs\u001b[0m\u001b[0;34m:\u001b[0m \u001b[0mAny\u001b[0m\u001b[0;34m,\u001b[0m \u001b[0;34m**\u001b[0m\u001b[0mkwargs\u001b[0m\u001b[0;34m:\u001b[0m \u001b[0mAny\u001b[0m\u001b[0;34m)\u001b[0m \u001b[0;34m->\u001b[0m \u001b[0mAny\u001b[0m\u001b[0;34m:\u001b[0m\u001b[0;34m\u001b[0m\u001b[0;34m\u001b[0m\u001b[0m\n\u001b[1;32m     53\u001b[0m             \u001b[0;32mtry\u001b[0m\u001b[0;34m:\u001b[0m\u001b[0;34m\u001b[0m\u001b[0;34m\u001b[0m\u001b[0m\n\u001b[0;32m---> 54\u001b[0;31m                 \u001b[0;32myield\u001b[0m \u001b[0;32mfrom\u001b[0m \u001b[0mfunc\u001b[0m\u001b[0;34m(\u001b[0m\u001b[0;34m*\u001b[0m\u001b[0margs\u001b[0m\u001b[0;34m,\u001b[0m \u001b[0;34m**\u001b[0m\u001b[0mkwargs\u001b[0m\u001b[0;34m)\u001b[0m\u001b[0;34m\u001b[0m\u001b[0;34m\u001b[0m\u001b[0m\n\u001b[0m\u001b[1;32m     55\u001b[0m             \u001b[0;32mexcept\u001b[0m \u001b[0mRpcError\u001b[0m \u001b[0;32mas\u001b[0m \u001b[0me\u001b[0m\u001b[0;34m:\u001b[0m\u001b[0;34m\u001b[0m\u001b[0;34m\u001b[0m\u001b[0m\n\u001b[1;32m     56\u001b[0m                 \u001b[0;32mif\u001b[0m \u001b[0missubclass\u001b[0m\u001b[0;34m(\u001b[0m\u001b[0mtype\u001b[0m\u001b[0;34m(\u001b[0m\u001b[0me\u001b[0m\u001b[0;34m)\u001b[0m\u001b[0;34m,\u001b[0m \u001b[0mCall\u001b[0m\u001b[0;34m)\u001b[0m\u001b[0;34m:\u001b[0m\u001b[0;34m\u001b[0m\u001b[0;34m\u001b[0m\u001b[0m\n",
      "\u001b[0;32m~/opt/anaconda3/lib/python3.9/site-packages/tinkoff/invest/services.py\u001b[0m in \u001b[0;36mmarket_data_stream\u001b[0;34m(self, request_iterator)\u001b[0m\n\u001b[1;32m   1055\u001b[0m             \u001b[0mmetadata\u001b[0m\u001b[0;34m=\u001b[0m\u001b[0mself\u001b[0m\u001b[0;34m.\u001b[0m\u001b[0mmetadata\u001b[0m\u001b[0;34m,\u001b[0m\u001b[0;34m\u001b[0m\u001b[0;34m\u001b[0m\u001b[0m\n\u001b[1;32m   1056\u001b[0m         ):\n\u001b[0;32m-> 1057\u001b[0;31m             \u001b[0;32myield\u001b[0m \u001b[0m_grpc_helpers\u001b[0m\u001b[0;34m.\u001b[0m\u001b[0mprotobuf_to_dataclass\u001b[0m\u001b[0;34m(\u001b[0m\u001b[0mresponse\u001b[0m\u001b[0;34m,\u001b[0m \u001b[0mMarketDataResponse\u001b[0m\u001b[0;34m)\u001b[0m\u001b[0;34m\u001b[0m\u001b[0;34m\u001b[0m\u001b[0m\n\u001b[0m\u001b[1;32m   1058\u001b[0m \u001b[0;34m\u001b[0m\u001b[0m\n\u001b[1;32m   1059\u001b[0m     \u001b[0;34m@\u001b[0m\u001b[0mstaticmethod\u001b[0m\u001b[0;34m\u001b[0m\u001b[0;34m\u001b[0m\u001b[0m\n",
      "\u001b[0;32m~/opt/anaconda3/lib/python3.9/site-packages/tinkoff/invest/_grpc_helpers.py\u001b[0m in \u001b[0;36mprotobuf_to_dataclass\u001b[0;34m(pb_obj, dataclass_type)\u001b[0m\n\u001b[1;32m    316\u001b[0m                 \u001b[0mfield_value\u001b[0m \u001b[0;34m=\u001b[0m \u001b[0mts_to_datetime\u001b[0m\u001b[0;34m(\u001b[0m\u001b[0mpb_value\u001b[0m\u001b[0;34m)\u001b[0m\u001b[0;34m\u001b[0m\u001b[0;34m\u001b[0m\u001b[0m\n\u001b[1;32m    317\u001b[0m             \u001b[0;32melif\u001b[0m \u001b[0mdataclasses\u001b[0m\u001b[0;34m.\u001b[0m\u001b[0mis_dataclass\u001b[0m\u001b[0;34m(\u001b[0m\u001b[0mfield_type\u001b[0m\u001b[0;34m)\u001b[0m\u001b[0;34m:\u001b[0m\u001b[0;34m\u001b[0m\u001b[0;34m\u001b[0m\u001b[0m\n\u001b[0;32m--> 318\u001b[0;31m                 \u001b[0mfield_value\u001b[0m \u001b[0;34m=\u001b[0m \u001b[0mprotobuf_to_dataclass\u001b[0m\u001b[0;34m(\u001b[0m\u001b[0mpb_value\u001b[0m\u001b[0;34m,\u001b[0m \u001b[0mfield_type\u001b[0m\u001b[0;34m)\u001b[0m\u001b[0;34m\u001b[0m\u001b[0;34m\u001b[0m\u001b[0m\n\u001b[0m\u001b[1;32m    319\u001b[0m             \u001b[0;32melif\u001b[0m \u001b[0missubclass\u001b[0m\u001b[0;34m(\u001b[0m\u001b[0mfield_type\u001b[0m\u001b[0;34m,\u001b[0m \u001b[0mEnum\u001b[0m\u001b[0;34m)\u001b[0m\u001b[0;34m:\u001b[0m\u001b[0;34m\u001b[0m\u001b[0;34m\u001b[0m\u001b[0m\n\u001b[1;32m    320\u001b[0m                 \u001b[0mfield_value\u001b[0m \u001b[0;34m=\u001b[0m \u001b[0mfield_type\u001b[0m\u001b[0;34m(\u001b[0m\u001b[0mpb_value\u001b[0m\u001b[0;34m)\u001b[0m\u001b[0;34m\u001b[0m\u001b[0;34m\u001b[0m\u001b[0m\n",
      "\u001b[0;32m~/opt/anaconda3/lib/python3.9/site-packages/tinkoff/invest/_grpc_helpers.py\u001b[0m in \u001b[0;36mprotobuf_to_dataclass\u001b[0;34m(pb_obj, dataclass_type)\u001b[0m\n\u001b[1;32m    325\u001b[0m                 \u001b[0mfield_value\u001b[0m \u001b[0;34m=\u001b[0m \u001b[0mpb_value\u001b[0m\u001b[0;34m\u001b[0m\u001b[0;34m\u001b[0m\u001b[0m\n\u001b[1;32m    326\u001b[0m             \u001b[0;32melif\u001b[0m \u001b[0mdataclasses\u001b[0m\u001b[0;34m.\u001b[0m\u001b[0mis_dataclass\u001b[0m\u001b[0;34m(\u001b[0m\u001b[0mfirst_arg\u001b[0m\u001b[0;34m)\u001b[0m\u001b[0;34m:\u001b[0m\u001b[0;34m\u001b[0m\u001b[0;34m\u001b[0m\u001b[0m\n\u001b[0;32m--> 327\u001b[0;31m                 field_value = [\n\u001b[0m\u001b[1;32m    328\u001b[0m                     \u001b[0mprotobuf_to_dataclass\u001b[0m\u001b[0;34m(\u001b[0m\u001b[0mitem\u001b[0m\u001b[0;34m,\u001b[0m \u001b[0mfirst_arg\u001b[0m\u001b[0;34m)\u001b[0m \u001b[0;32mfor\u001b[0m \u001b[0mitem\u001b[0m \u001b[0;32min\u001b[0m \u001b[0mpb_value\u001b[0m\u001b[0;34m\u001b[0m\u001b[0;34m\u001b[0m\u001b[0m\n\u001b[1;32m    329\u001b[0m                 ]\n",
      "\u001b[0;32m~/opt/anaconda3/lib/python3.9/site-packages/tinkoff/invest/_grpc_helpers.py\u001b[0m in \u001b[0;36m<listcomp>\u001b[0;34m(.0)\u001b[0m\n\u001b[1;32m    326\u001b[0m             \u001b[0;32melif\u001b[0m \u001b[0mdataclasses\u001b[0m\u001b[0;34m.\u001b[0m\u001b[0mis_dataclass\u001b[0m\u001b[0;34m(\u001b[0m\u001b[0mfirst_arg\u001b[0m\u001b[0;34m)\u001b[0m\u001b[0;34m:\u001b[0m\u001b[0;34m\u001b[0m\u001b[0;34m\u001b[0m\u001b[0m\n\u001b[1;32m    327\u001b[0m                 field_value = [\n\u001b[0;32m--> 328\u001b[0;31m                     \u001b[0mprotobuf_to_dataclass\u001b[0m\u001b[0;34m(\u001b[0m\u001b[0mitem\u001b[0m\u001b[0;34m,\u001b[0m \u001b[0mfirst_arg\u001b[0m\u001b[0;34m)\u001b[0m \u001b[0;32mfor\u001b[0m \u001b[0mitem\u001b[0m \u001b[0;32min\u001b[0m \u001b[0mpb_value\u001b[0m\u001b[0;34m\u001b[0m\u001b[0;34m\u001b[0m\u001b[0m\n\u001b[0m\u001b[1;32m    329\u001b[0m                 ]\n\u001b[1;32m    330\u001b[0m             \u001b[0;32melif\u001b[0m \u001b[0mfirst_arg\u001b[0m \u001b[0;34m==\u001b[0m \u001b[0mDecimal\u001b[0m\u001b[0;34m:\u001b[0m\u001b[0;34m\u001b[0m\u001b[0;34m\u001b[0m\u001b[0m\n",
      "\u001b[0;32m~/opt/anaconda3/lib/python3.9/site-packages/tinkoff/invest/_grpc_helpers.py\u001b[0m in \u001b[0;36mprotobuf_to_dataclass\u001b[0;34m(pb_obj, dataclass_type)\u001b[0m\n\u001b[1;32m    318\u001b[0m                 \u001b[0mfield_value\u001b[0m \u001b[0;34m=\u001b[0m \u001b[0mprotobuf_to_dataclass\u001b[0m\u001b[0;34m(\u001b[0m\u001b[0mpb_value\u001b[0m\u001b[0;34m,\u001b[0m \u001b[0mfield_type\u001b[0m\u001b[0;34m)\u001b[0m\u001b[0;34m\u001b[0m\u001b[0;34m\u001b[0m\u001b[0m\n\u001b[1;32m    319\u001b[0m             \u001b[0;32melif\u001b[0m \u001b[0missubclass\u001b[0m\u001b[0;34m(\u001b[0m\u001b[0mfield_type\u001b[0m\u001b[0;34m,\u001b[0m \u001b[0mEnum\u001b[0m\u001b[0;34m)\u001b[0m\u001b[0;34m:\u001b[0m\u001b[0;34m\u001b[0m\u001b[0;34m\u001b[0m\u001b[0m\n\u001b[0;32m--> 320\u001b[0;31m                 \u001b[0mfield_value\u001b[0m \u001b[0;34m=\u001b[0m \u001b[0mfield_type\u001b[0m\u001b[0;34m(\u001b[0m\u001b[0mpb_value\u001b[0m\u001b[0;34m)\u001b[0m\u001b[0;34m\u001b[0m\u001b[0;34m\u001b[0m\u001b[0m\n\u001b[0m\u001b[1;32m    321\u001b[0m         \u001b[0;32melif\u001b[0m \u001b[0morigin\u001b[0m \u001b[0;34m==\u001b[0m \u001b[0mlist\u001b[0m\u001b[0;34m:\u001b[0m\u001b[0;34m\u001b[0m\u001b[0;34m\u001b[0m\u001b[0m\n\u001b[1;32m    322\u001b[0m             \u001b[0margs\u001b[0m \u001b[0;34m=\u001b[0m \u001b[0mget_args\u001b[0m\u001b[0;34m(\u001b[0m\u001b[0mfield_type\u001b[0m\u001b[0;34m)\u001b[0m\u001b[0;34m\u001b[0m\u001b[0;34m\u001b[0m\u001b[0m\n",
      "\u001b[0;32m~/opt/anaconda3/lib/python3.9/enum.py\u001b[0m in \u001b[0;36m__call__\u001b[0;34m(cls, value, names, module, qualname, type, start)\u001b[0m\n\u001b[1;32m    382\u001b[0m         \"\"\"\n\u001b[1;32m    383\u001b[0m         \u001b[0;32mif\u001b[0m \u001b[0mnames\u001b[0m \u001b[0;32mis\u001b[0m \u001b[0;32mNone\u001b[0m\u001b[0;34m:\u001b[0m  \u001b[0;31m# simple value lookup\u001b[0m\u001b[0;34m\u001b[0m\u001b[0;34m\u001b[0m\u001b[0m\n\u001b[0;32m--> 384\u001b[0;31m             \u001b[0;32mreturn\u001b[0m \u001b[0mcls\u001b[0m\u001b[0;34m.\u001b[0m\u001b[0m__new__\u001b[0m\u001b[0;34m(\u001b[0m\u001b[0mcls\u001b[0m\u001b[0;34m,\u001b[0m \u001b[0mvalue\u001b[0m\u001b[0;34m)\u001b[0m\u001b[0;34m\u001b[0m\u001b[0;34m\u001b[0m\u001b[0m\n\u001b[0m\u001b[1;32m    385\u001b[0m         \u001b[0;31m# otherwise, functional API: we're creating a new Enum type\u001b[0m\u001b[0;34m\u001b[0m\u001b[0;34m\u001b[0m\u001b[0m\n\u001b[1;32m    386\u001b[0m         return cls._create_(\n",
      "\u001b[0;32m~/opt/anaconda3/lib/python3.9/enum.py\u001b[0m in \u001b[0;36m__new__\u001b[0;34m(cls, value)\u001b[0m\n\u001b[1;32m    700\u001b[0m                 \u001b[0mve_exc\u001b[0m \u001b[0;34m=\u001b[0m \u001b[0mValueError\u001b[0m\u001b[0;34m(\u001b[0m\u001b[0;34m\"%r is not a valid %s\"\u001b[0m \u001b[0;34m%\u001b[0m \u001b[0;34m(\u001b[0m\u001b[0mvalue\u001b[0m\u001b[0;34m,\u001b[0m \u001b[0mcls\u001b[0m\u001b[0;34m.\u001b[0m\u001b[0m__qualname__\u001b[0m\u001b[0;34m)\u001b[0m\u001b[0;34m)\u001b[0m\u001b[0;34m\u001b[0m\u001b[0;34m\u001b[0m\u001b[0m\n\u001b[1;32m    701\u001b[0m                 \u001b[0;32mif\u001b[0m \u001b[0mresult\u001b[0m \u001b[0;32mis\u001b[0m \u001b[0;32mNone\u001b[0m \u001b[0;32mand\u001b[0m \u001b[0mexc\u001b[0m \u001b[0;32mis\u001b[0m \u001b[0;32mNone\u001b[0m\u001b[0;34m:\u001b[0m\u001b[0;34m\u001b[0m\u001b[0;34m\u001b[0m\u001b[0m\n\u001b[0;32m--> 702\u001b[0;31m                     \u001b[0;32mraise\u001b[0m \u001b[0mve_exc\u001b[0m\u001b[0;34m\u001b[0m\u001b[0;34m\u001b[0m\u001b[0m\n\u001b[0m\u001b[1;32m    703\u001b[0m                 \u001b[0;32melif\u001b[0m \u001b[0mexc\u001b[0m \u001b[0;32mis\u001b[0m \u001b[0;32mNone\u001b[0m\u001b[0;34m:\u001b[0m\u001b[0;34m\u001b[0m\u001b[0;34m\u001b[0m\u001b[0m\n\u001b[1;32m    704\u001b[0m                     exc = TypeError(\n",
      "\u001b[0;31mValueError\u001b[0m: 9 is not a valid SubscriptionStatus"
     ]
    }
   ],
   "source": [
    "get_strem_candles()"
   ]
  },
  {
   "cell_type": "code",
   "execution_count": null,
   "id": "f1161970",
   "metadata": {},
   "outputs": [],
   "source": []
  },
  {
   "cell_type": "code",
   "execution_count": 150,
   "id": "93059c6b",
   "metadata": {
    "ExecuteTime": {
     "end_time": "2023-09-11T13:11:33.201097Z",
     "start_time": "2023-09-11T13:11:33.196684Z"
    }
   },
   "outputs": [],
   "source": [
    "dfs = []\n",
    "local_variable_scope =locals().keys()\n",
    "for elem in local_variable_scope:\n",
    "    if 'df' in elem:\n",
    "        dfs.append(elem)\n",
    "# Удаляем не используемые датафреймы\n",
    "for elem in dfs:\n",
    "    del locals()[elem]"
   ]
  },
  {
   "cell_type": "code",
   "execution_count": null,
   "id": "4f0f68a4",
   "metadata": {},
   "outputs": [],
   "source": []
  },
  {
   "cell_type": "code",
   "execution_count": null,
   "id": "7434ef0b",
   "metadata": {},
   "outputs": [],
   "source": []
  },
  {
   "cell_type": "code",
   "execution_count": null,
   "id": "a59552ca",
   "metadata": {},
   "outputs": [],
   "source": []
  },
  {
   "cell_type": "code",
   "execution_count": null,
   "id": "15f681bb",
   "metadata": {},
   "outputs": [],
   "source": []
  },
  {
   "cell_type": "code",
   "execution_count": null,
   "id": "f76e81ce",
   "metadata": {},
   "outputs": [],
   "source": []
  },
  {
   "cell_type": "code",
   "execution_count": null,
   "id": "2a0294fa",
   "metadata": {},
   "outputs": [],
   "source": []
  },
  {
   "cell_type": "code",
   "execution_count": null,
   "id": "a4758133",
   "metadata": {},
   "outputs": [],
   "source": []
  },
  {
   "cell_type": "code",
   "execution_count": null,
   "id": "1c1abf8d",
   "metadata": {},
   "outputs": [],
   "source": []
  },
  {
   "cell_type": "code",
   "execution_count": null,
   "id": "1fff8ce9",
   "metadata": {},
   "outputs": [],
   "source": []
  },
  {
   "cell_type": "code",
   "execution_count": 7,
   "id": "afd45796",
   "metadata": {
    "ExecuteTime": {
     "end_time": "2023-09-10T09:37:32.012759Z",
     "start_time": "2023-09-10T09:37:31.989299Z"
    }
   },
   "outputs": [
    {
     "name": "stdout",
     "output_type": "stream",
     "text": [
      "База данных подключена\n",
      "Датафрейм заполнен фичами и параметрами для расчёта целевой переменной\n",
      "Соединение с базой данных закрыто\n"
     ]
    }
   ],
   "source": [
    "data_path = './Data/'\n",
    "# Заполняем датафрейм результатами запроса\n",
    "connection = sqlite3.connect(f'{data_path}exchange')\n",
    "print('База данных подключена')\n",
    "# Загрузим датасет с заказами и временем доставки\n",
    "df = pd.read_sql_query(query_0, connection)\n",
    "# df = pd.read_sql_query(query_1, connection)\n",
    "print('Датафрейм заполнен фичами и параметрами для расчёта целевой переменной')\n",
    "connection.close()\n",
    "print('Соединение с базой данных закрыто')"
   ]
  },
  {
   "cell_type": "code",
   "execution_count": 8,
   "id": "2854cceb",
   "metadata": {
    "ExecuteTime": {
     "end_time": "2023-09-10T09:37:38.414487Z",
     "start_time": "2023-09-10T09:37:38.381458Z"
    }
   },
   "outputs": [
    {
     "data": {
      "text/html": [
       "<div>\n",
       "<style scoped>\n",
       "    .dataframe tbody tr th:only-of-type {\n",
       "        vertical-align: middle;\n",
       "    }\n",
       "\n",
       "    .dataframe tbody tr th {\n",
       "        vertical-align: top;\n",
       "    }\n",
       "\n",
       "    .dataframe thead th {\n",
       "        text-align: right;\n",
       "    }\n",
       "</style>\n",
       "<table border=\"1\" class=\"dataframe\">\n",
       "  <thead>\n",
       "    <tr style=\"text-align: right;\">\n",
       "      <th></th>\n",
       "      <th>Признак закрытия</th>\n",
       "      <th>Время свечи</th>\n",
       "      <th>Объём в лотах</th>\n",
       "      <th>Цена открытия</th>\n",
       "      <th>Максимальная цена</th>\n",
       "      <th>Минимальная цена</th>\n",
       "      <th>Цена закрытия</th>\n",
       "    </tr>\n",
       "  </thead>\n",
       "  <tbody>\n",
       "    <tr>\n",
       "      <th>0</th>\n",
       "      <td>1</td>\n",
       "      <td>1694097300</td>\n",
       "      <td>157544</td>\n",
       "      <td>256</td>\n",
       "      <td>257</td>\n",
       "      <td>256</td>\n",
       "      <td>256</td>\n",
       "    </tr>\n",
       "    <tr>\n",
       "      <th>1</th>\n",
       "      <td>1</td>\n",
       "      <td>1694097600</td>\n",
       "      <td>86803</td>\n",
       "      <td>256</td>\n",
       "      <td>257</td>\n",
       "      <td>256</td>\n",
       "      <td>257</td>\n",
       "    </tr>\n",
       "    <tr>\n",
       "      <th>2</th>\n",
       "      <td>1</td>\n",
       "      <td>1694097900</td>\n",
       "      <td>59178</td>\n",
       "      <td>257</td>\n",
       "      <td>257</td>\n",
       "      <td>256</td>\n",
       "      <td>257</td>\n",
       "    </tr>\n",
       "    <tr>\n",
       "      <th>3</th>\n",
       "      <td>1</td>\n",
       "      <td>1694098200</td>\n",
       "      <td>59391</td>\n",
       "      <td>257</td>\n",
       "      <td>257</td>\n",
       "      <td>257</td>\n",
       "      <td>257</td>\n",
       "    </tr>\n",
       "    <tr>\n",
       "      <th>4</th>\n",
       "      <td>1</td>\n",
       "      <td>1694098500</td>\n",
       "      <td>65565</td>\n",
       "      <td>257</td>\n",
       "      <td>257</td>\n",
       "      <td>256</td>\n",
       "      <td>256</td>\n",
       "    </tr>\n",
       "    <tr>\n",
       "      <th>...</th>\n",
       "      <td>...</td>\n",
       "      <td>...</td>\n",
       "      <td>...</td>\n",
       "      <td>...</td>\n",
       "      <td>...</td>\n",
       "      <td>...</td>\n",
       "      <td>...</td>\n",
       "    </tr>\n",
       "    <tr>\n",
       "      <th>159</th>\n",
       "      <td>1</td>\n",
       "      <td>1694182500</td>\n",
       "      <td>9550</td>\n",
       "      <td>256</td>\n",
       "      <td>256</td>\n",
       "      <td>256</td>\n",
       "      <td>256</td>\n",
       "    </tr>\n",
       "    <tr>\n",
       "      <th>160</th>\n",
       "      <td>1</td>\n",
       "      <td>1694182800</td>\n",
       "      <td>17943</td>\n",
       "      <td>256</td>\n",
       "      <td>256</td>\n",
       "      <td>256</td>\n",
       "      <td>256</td>\n",
       "    </tr>\n",
       "    <tr>\n",
       "      <th>161</th>\n",
       "      <td>1</td>\n",
       "      <td>1694183100</td>\n",
       "      <td>8455</td>\n",
       "      <td>256</td>\n",
       "      <td>256</td>\n",
       "      <td>256</td>\n",
       "      <td>256</td>\n",
       "    </tr>\n",
       "    <tr>\n",
       "      <th>162</th>\n",
       "      <td>1</td>\n",
       "      <td>1694183400</td>\n",
       "      <td>7765</td>\n",
       "      <td>256</td>\n",
       "      <td>256</td>\n",
       "      <td>256</td>\n",
       "      <td>256</td>\n",
       "    </tr>\n",
       "    <tr>\n",
       "      <th>163</th>\n",
       "      <td>0</td>\n",
       "      <td>1694183700</td>\n",
       "      <td>688</td>\n",
       "      <td>256</td>\n",
       "      <td>256</td>\n",
       "      <td>256</td>\n",
       "      <td>256</td>\n",
       "    </tr>\n",
       "  </tbody>\n",
       "</table>\n",
       "<p>164 rows × 7 columns</p>\n",
       "</div>"
      ],
      "text/plain": [
       "     Признак закрытия  Время свечи  Объём в лотах  Цена открытия  \\\n",
       "0                   1   1694097300         157544            256   \n",
       "1                   1   1694097600          86803            256   \n",
       "2                   1   1694097900          59178            257   \n",
       "3                   1   1694098200          59391            257   \n",
       "4                   1   1694098500          65565            257   \n",
       "..                ...          ...            ...            ...   \n",
       "159                 1   1694182500           9550            256   \n",
       "160                 1   1694182800          17943            256   \n",
       "161                 1   1694183100           8455            256   \n",
       "162                 1   1694183400           7765            256   \n",
       "163                 0   1694183700            688            256   \n",
       "\n",
       "     Максимальная цена  Минимальная цена  Цена закрытия  \n",
       "0                  257               256            256  \n",
       "1                  257               256            257  \n",
       "2                  257               256            257  \n",
       "3                  257               257            257  \n",
       "4                  257               256            256  \n",
       "..                 ...               ...            ...  \n",
       "159                256               256            256  \n",
       "160                256               256            256  \n",
       "161                256               256            256  \n",
       "162                256               256            256  \n",
       "163                256               256            256  \n",
       "\n",
       "[164 rows x 7 columns]"
      ]
     },
     "execution_count": 8,
     "metadata": {},
     "output_type": "execute_result"
    }
   ],
   "source": [
    "df"
   ]
  },
  {
   "cell_type": "code",
   "execution_count": null,
   "id": "35e41e20",
   "metadata": {},
   "outputs": [],
   "source": []
  }
 ],
 "metadata": {
  "kernelspec": {
   "display_name": "Python 3 (ipykernel)",
   "language": "python",
   "name": "python3"
  },
  "language_info": {
   "codemirror_mode": {
    "name": "ipython",
    "version": 3
   },
   "file_extension": ".py",
   "mimetype": "text/x-python",
   "name": "python",
   "nbconvert_exporter": "python",
   "pygments_lexer": "ipython3",
   "version": "3.9.13"
  },
  "toc": {
   "base_numbering": 1,
   "nav_menu": {},
   "number_sections": false,
   "sideBar": true,
   "skip_h1_title": false,
   "title_cell": "СОДЕРЖАНИЕ",
   "title_sidebar": "Contents",
   "toc_cell": true,
   "toc_position": {
    "height": "calc(100% - 180px)",
    "left": "10px",
    "top": "150px",
    "width": "336px"
   },
   "toc_section_display": true,
   "toc_window_display": true
  },
  "varInspector": {
   "cols": {
    "lenName": 16,
    "lenType": 16,
    "lenVar": 40
   },
   "kernels_config": {
    "python": {
     "delete_cmd_postfix": "",
     "delete_cmd_prefix": "del ",
     "library": "var_list.py",
     "varRefreshCmd": "print(var_dic_list())"
    },
    "r": {
     "delete_cmd_postfix": ") ",
     "delete_cmd_prefix": "rm(",
     "library": "var_list.r",
     "varRefreshCmd": "cat(var_dic_list()) "
    }
   },
   "types_to_exclude": [
    "module",
    "function",
    "builtin_function_or_method",
    "instance",
    "_Feature"
   ],
   "window_display": false
  }
 },
 "nbformat": 4,
 "nbformat_minor": 5
}
